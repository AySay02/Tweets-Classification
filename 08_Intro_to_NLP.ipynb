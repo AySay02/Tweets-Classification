{
  "nbformat": 4,
  "nbformat_minor": 0,
  "metadata": {
    "colab": {
      "provenance": [],
      "toc_visible": true,
      "authorship_tag": "ABX9TyOLXSF6ihYXDXdDjPUKeKBN",
      "include_colab_link": true
    },
    "kernelspec": {
      "name": "python3",
      "display_name": "Python 3"
    },
    "language_info": {
      "name": "python"
    },
    "accelerator": "GPU",
    "gpuClass": "standard"
  },
  "cells": [
    {
      "cell_type": "markdown",
      "metadata": {
        "id": "view-in-github",
        "colab_type": "text"
      },
      "source": [
        "<a href=\"https://colab.research.google.com/github/AySay02/Tweets-Classification/blob/main/08_Intro_to_NLP.ipynb\" target=\"_parent\"><img src=\"https://colab.research.google.com/assets/colab-badge.svg\" alt=\"Open In Colab\"/></a>"
      ]
    },
    {
      "cell_type": "markdown",
      "source": [
        "# Introduction to NLP and model fundamentals\n"
      ],
      "metadata": {
        "id": "MFimq8gdGQqN"
      }
    },
    {
      "cell_type": "code",
      "source": [
        "import pandas as pd\n",
        "import random\n",
        "import tensorflow as tf"
      ],
      "metadata": {
        "id": "FpAgVoisIL4n"
      },
      "execution_count": null,
      "outputs": []
    },
    {
      "cell_type": "code",
      "execution_count": null,
      "metadata": {
        "colab": {
          "base_uri": "https://localhost:8080/"
        },
        "id": "bZWABUfnGBhK",
        "outputId": "01b76bb2-9e96-44ba-d4d1-02f4261569bb"
      },
      "outputs": [
        {
          "output_type": "stream",
          "name": "stdout",
          "text": [
            "GPU 0: Tesla T4 (UUID: GPU-2228992d-9905-c945-a662-fe261e8e3bb6)\n"
          ]
        }
      ],
      "source": [
        "!nvidia-smi -L"
      ]
    },
    {
      "cell_type": "code",
      "source": [
        "# Getting Helper functions\n",
        "\n",
        "!wget https://raw.githubusercontent.com/mrdbourke/tensorflow-deep-learning/main/extras/helper_functions.py\n",
        "from helper_functions import unzip_data , create_tensorboard_callback , plot_loss_curves , compare_historys"
      ],
      "metadata": {
        "colab": {
          "base_uri": "https://localhost:8080/"
        },
        "id": "k4LcMDCtGqcV",
        "outputId": "02fc6c97-482c-485a-d747-1f49d874b41e"
      },
      "execution_count": null,
      "outputs": [
        {
          "output_type": "stream",
          "name": "stdout",
          "text": [
            "--2023-06-02 07:09:17--  https://raw.githubusercontent.com/mrdbourke/tensorflow-deep-learning/main/extras/helper_functions.py\n",
            "Resolving raw.githubusercontent.com (raw.githubusercontent.com)... 185.199.108.133, 185.199.109.133, 185.199.110.133, ...\n",
            "Connecting to raw.githubusercontent.com (raw.githubusercontent.com)|185.199.108.133|:443... connected.\n",
            "HTTP request sent, awaiting response... 200 OK\n",
            "Length: 10246 (10K) [text/plain]\n",
            "Saving to: ‘helper_functions.py’\n",
            "\n",
            "helper_functions.py 100%[===================>]  10.01K  --.-KB/s    in 0s      \n",
            "\n",
            "2023-06-02 07:09:17 (104 MB/s) - ‘helper_functions.py’ saved [10246/10246]\n",
            "\n"
          ]
        }
      ]
    },
    {
      "cell_type": "markdown",
      "source": [
        "**Getting text dataset**\\\n",
        "Kaggle's basic NLP dataset ; disaster classification"
      ],
      "metadata": {
        "id": "vLOOLSQOHM_t"
      }
    },
    {
      "cell_type": "code",
      "source": [
        "!wget https://storage.googleapis.com/ztm_tf_course/nlp_getting_started.zip\n",
        "\n",
        "#Unzip data\n",
        "unzip_data(\"nlp_getting_started.zip\")"
      ],
      "metadata": {
        "colab": {
          "base_uri": "https://localhost:8080/"
        },
        "id": "GCz6LETPG_dE",
        "outputId": "68b0db94-0dbe-4992-9a71-eb437e28ec71"
      },
      "execution_count": null,
      "outputs": [
        {
          "output_type": "stream",
          "name": "stdout",
          "text": [
            "--2023-06-02 07:09:18--  https://storage.googleapis.com/ztm_tf_course/nlp_getting_started.zip\n",
            "Resolving storage.googleapis.com (storage.googleapis.com)... 74.125.200.128, 74.125.68.128, 64.233.170.128, ...\n",
            "Connecting to storage.googleapis.com (storage.googleapis.com)|74.125.200.128|:443... connected.\n",
            "HTTP request sent, awaiting response... 200 OK\n",
            "Length: 607343 (593K) [application/zip]\n",
            "Saving to: ‘nlp_getting_started.zip’\n",
            "\n",
            "nlp_getting_started 100%[===================>] 593.11K   718KB/s    in 0.8s    \n",
            "\n",
            "2023-06-02 07:09:19 (718 KB/s) - ‘nlp_getting_started.zip’ saved [607343/607343]\n",
            "\n"
          ]
        }
      ]
    },
    {
      "cell_type": "code",
      "source": [
        "# Visualizing a text Dataset\n",
        "\n",
        "# To visualize the text samples , we need to read them\n",
        "\n",
        "train_df = pd.read_csv(\"train.csv\")\n",
        "test_df = pd.read_csv(\"test.csv\")\n",
        "train_df.head()"
      ],
      "metadata": {
        "colab": {
          "base_uri": "https://localhost:8080/",
          "height": 250
        },
        "id": "VtRKdQWeHvl6",
        "outputId": "a3c11c44-9176-45be-9a7e-c82774fb00ee"
      },
      "execution_count": null,
      "outputs": [
        {
          "output_type": "execute_result",
          "data": {
            "text/plain": [
              "   id keyword location                                               text  \\\n",
              "0   1     NaN      NaN  Our Deeds are the Reason of this #earthquake M...   \n",
              "1   4     NaN      NaN             Forest fire near La Ronge Sask. Canada   \n",
              "2   5     NaN      NaN  All residents asked to 'shelter in place' are ...   \n",
              "3   6     NaN      NaN  13,000 people receive #wildfires evacuation or...   \n",
              "4   7     NaN      NaN  Just got sent this photo from Ruby #Alaska as ...   \n",
              "\n",
              "   target  \n",
              "0       1  \n",
              "1       1  \n",
              "2       1  \n",
              "3       1  \n",
              "4       1  "
            ],
            "text/html": [
              "\n",
              "  <div id=\"df-843dd658-baef-49f5-813f-f09276ffde86\">\n",
              "    <div class=\"colab-df-container\">\n",
              "      <div>\n",
              "<style scoped>\n",
              "    .dataframe tbody tr th:only-of-type {\n",
              "        vertical-align: middle;\n",
              "    }\n",
              "\n",
              "    .dataframe tbody tr th {\n",
              "        vertical-align: top;\n",
              "    }\n",
              "\n",
              "    .dataframe thead th {\n",
              "        text-align: right;\n",
              "    }\n",
              "</style>\n",
              "<table border=\"1\" class=\"dataframe\">\n",
              "  <thead>\n",
              "    <tr style=\"text-align: right;\">\n",
              "      <th></th>\n",
              "      <th>id</th>\n",
              "      <th>keyword</th>\n",
              "      <th>location</th>\n",
              "      <th>text</th>\n",
              "      <th>target</th>\n",
              "    </tr>\n",
              "  </thead>\n",
              "  <tbody>\n",
              "    <tr>\n",
              "      <th>0</th>\n",
              "      <td>1</td>\n",
              "      <td>NaN</td>\n",
              "      <td>NaN</td>\n",
              "      <td>Our Deeds are the Reason of this #earthquake M...</td>\n",
              "      <td>1</td>\n",
              "    </tr>\n",
              "    <tr>\n",
              "      <th>1</th>\n",
              "      <td>4</td>\n",
              "      <td>NaN</td>\n",
              "      <td>NaN</td>\n",
              "      <td>Forest fire near La Ronge Sask. Canada</td>\n",
              "      <td>1</td>\n",
              "    </tr>\n",
              "    <tr>\n",
              "      <th>2</th>\n",
              "      <td>5</td>\n",
              "      <td>NaN</td>\n",
              "      <td>NaN</td>\n",
              "      <td>All residents asked to 'shelter in place' are ...</td>\n",
              "      <td>1</td>\n",
              "    </tr>\n",
              "    <tr>\n",
              "      <th>3</th>\n",
              "      <td>6</td>\n",
              "      <td>NaN</td>\n",
              "      <td>NaN</td>\n",
              "      <td>13,000 people receive #wildfires evacuation or...</td>\n",
              "      <td>1</td>\n",
              "    </tr>\n",
              "    <tr>\n",
              "      <th>4</th>\n",
              "      <td>7</td>\n",
              "      <td>NaN</td>\n",
              "      <td>NaN</td>\n",
              "      <td>Just got sent this photo from Ruby #Alaska as ...</td>\n",
              "      <td>1</td>\n",
              "    </tr>\n",
              "  </tbody>\n",
              "</table>\n",
              "</div>\n",
              "      <button class=\"colab-df-convert\" onclick=\"convertToInteractive('df-843dd658-baef-49f5-813f-f09276ffde86')\"\n",
              "              title=\"Convert this dataframe to an interactive table.\"\n",
              "              style=\"display:none;\">\n",
              "        \n",
              "  <svg xmlns=\"http://www.w3.org/2000/svg\" height=\"24px\"viewBox=\"0 0 24 24\"\n",
              "       width=\"24px\">\n",
              "    <path d=\"M0 0h24v24H0V0z\" fill=\"none\"/>\n",
              "    <path d=\"M18.56 5.44l.94 2.06.94-2.06 2.06-.94-2.06-.94-.94-2.06-.94 2.06-2.06.94zm-11 1L8.5 8.5l.94-2.06 2.06-.94-2.06-.94L8.5 2.5l-.94 2.06-2.06.94zm10 10l.94 2.06.94-2.06 2.06-.94-2.06-.94-.94-2.06-.94 2.06-2.06.94z\"/><path d=\"M17.41 7.96l-1.37-1.37c-.4-.4-.92-.59-1.43-.59-.52 0-1.04.2-1.43.59L10.3 9.45l-7.72 7.72c-.78.78-.78 2.05 0 2.83L4 21.41c.39.39.9.59 1.41.59.51 0 1.02-.2 1.41-.59l7.78-7.78 2.81-2.81c.8-.78.8-2.07 0-2.86zM5.41 20L4 18.59l7.72-7.72 1.47 1.35L5.41 20z\"/>\n",
              "  </svg>\n",
              "      </button>\n",
              "      \n",
              "  <style>\n",
              "    .colab-df-container {\n",
              "      display:flex;\n",
              "      flex-wrap:wrap;\n",
              "      gap: 12px;\n",
              "    }\n",
              "\n",
              "    .colab-df-convert {\n",
              "      background-color: #E8F0FE;\n",
              "      border: none;\n",
              "      border-radius: 50%;\n",
              "      cursor: pointer;\n",
              "      display: none;\n",
              "      fill: #1967D2;\n",
              "      height: 32px;\n",
              "      padding: 0 0 0 0;\n",
              "      width: 32px;\n",
              "    }\n",
              "\n",
              "    .colab-df-convert:hover {\n",
              "      background-color: #E2EBFA;\n",
              "      box-shadow: 0px 1px 2px rgba(60, 64, 67, 0.3), 0px 1px 3px 1px rgba(60, 64, 67, 0.15);\n",
              "      fill: #174EA6;\n",
              "    }\n",
              "\n",
              "    [theme=dark] .colab-df-convert {\n",
              "      background-color: #3B4455;\n",
              "      fill: #D2E3FC;\n",
              "    }\n",
              "\n",
              "    [theme=dark] .colab-df-convert:hover {\n",
              "      background-color: #434B5C;\n",
              "      box-shadow: 0px 1px 3px 1px rgba(0, 0, 0, 0.15);\n",
              "      filter: drop-shadow(0px 1px 2px rgba(0, 0, 0, 0.3));\n",
              "      fill: #FFFFFF;\n",
              "    }\n",
              "  </style>\n",
              "\n",
              "      <script>\n",
              "        const buttonEl =\n",
              "          document.querySelector('#df-843dd658-baef-49f5-813f-f09276ffde86 button.colab-df-convert');\n",
              "        buttonEl.style.display =\n",
              "          google.colab.kernel.accessAllowed ? 'block' : 'none';\n",
              "\n",
              "        async function convertToInteractive(key) {\n",
              "          const element = document.querySelector('#df-843dd658-baef-49f5-813f-f09276ffde86');\n",
              "          const dataTable =\n",
              "            await google.colab.kernel.invokeFunction('convertToInteractive',\n",
              "                                                     [key], {});\n",
              "          if (!dataTable) return;\n",
              "\n",
              "          const docLinkHtml = 'Like what you see? Visit the ' +\n",
              "            '<a target=\"_blank\" href=https://colab.research.google.com/notebooks/data_table.ipynb>data table notebook</a>'\n",
              "            + ' to learn more about interactive tables.';\n",
              "          element.innerHTML = '';\n",
              "          dataTable['output_type'] = 'display_data';\n",
              "          await google.colab.output.renderOutput(dataTable, element);\n",
              "          const docLink = document.createElement('div');\n",
              "          docLink.innerHTML = docLinkHtml;\n",
              "          element.appendChild(docLink);\n",
              "        }\n",
              "      </script>\n",
              "    </div>\n",
              "  </div>\n",
              "  "
            ]
          },
          "metadata": {},
          "execution_count": 5
        }
      ]
    },
    {
      "cell_type": "code",
      "source": [
        "# Shuffling dataset\n",
        "\n",
        "train_df_shuffled = train_df.sample(frac=1 , random_state=42)\n",
        "train_df_shuffled.head()"
      ],
      "metadata": {
        "colab": {
          "base_uri": "https://localhost:8080/",
          "height": 337
        },
        "id": "c5rZxmvfIhRq",
        "outputId": "13c7ea4b-8e74-434f-f831-f8bfc0d830cd"
      },
      "execution_count": null,
      "outputs": [
        {
          "output_type": "execute_result",
          "data": {
            "text/plain": [
              "        id      keyword               location  \\\n",
              "2644  3796  destruction                    NaN   \n",
              "2227  3185       deluge                    NaN   \n",
              "5448  7769       police                     UK   \n",
              "132    191   aftershock                    NaN   \n",
              "6845  9810       trauma  Montgomery County, MD   \n",
              "\n",
              "                                                   text  target  \n",
              "2644  So you have a new weapon that can cause un-ima...       1  \n",
              "2227  The f$&amp;@ing things I do for #GISHWHES Just...       0  \n",
              "5448  DT @georgegalloway: RT @Galloway4Mayor: ÛÏThe...       1  \n",
              "132   Aftershock back to school kick off was great. ...       0  \n",
              "6845  in response to trauma Children of Addicts deve...       0  "
            ],
            "text/html": [
              "\n",
              "  <div id=\"df-85bc44b9-ec87-41f9-9cfb-94a15a301bc5\">\n",
              "    <div class=\"colab-df-container\">\n",
              "      <div>\n",
              "<style scoped>\n",
              "    .dataframe tbody tr th:only-of-type {\n",
              "        vertical-align: middle;\n",
              "    }\n",
              "\n",
              "    .dataframe tbody tr th {\n",
              "        vertical-align: top;\n",
              "    }\n",
              "\n",
              "    .dataframe thead th {\n",
              "        text-align: right;\n",
              "    }\n",
              "</style>\n",
              "<table border=\"1\" class=\"dataframe\">\n",
              "  <thead>\n",
              "    <tr style=\"text-align: right;\">\n",
              "      <th></th>\n",
              "      <th>id</th>\n",
              "      <th>keyword</th>\n",
              "      <th>location</th>\n",
              "      <th>text</th>\n",
              "      <th>target</th>\n",
              "    </tr>\n",
              "  </thead>\n",
              "  <tbody>\n",
              "    <tr>\n",
              "      <th>2644</th>\n",
              "      <td>3796</td>\n",
              "      <td>destruction</td>\n",
              "      <td>NaN</td>\n",
              "      <td>So you have a new weapon that can cause un-ima...</td>\n",
              "      <td>1</td>\n",
              "    </tr>\n",
              "    <tr>\n",
              "      <th>2227</th>\n",
              "      <td>3185</td>\n",
              "      <td>deluge</td>\n",
              "      <td>NaN</td>\n",
              "      <td>The f$&amp;amp;@ing things I do for #GISHWHES Just...</td>\n",
              "      <td>0</td>\n",
              "    </tr>\n",
              "    <tr>\n",
              "      <th>5448</th>\n",
              "      <td>7769</td>\n",
              "      <td>police</td>\n",
              "      <td>UK</td>\n",
              "      <td>DT @georgegalloway: RT @Galloway4Mayor: ÛÏThe...</td>\n",
              "      <td>1</td>\n",
              "    </tr>\n",
              "    <tr>\n",
              "      <th>132</th>\n",
              "      <td>191</td>\n",
              "      <td>aftershock</td>\n",
              "      <td>NaN</td>\n",
              "      <td>Aftershock back to school kick off was great. ...</td>\n",
              "      <td>0</td>\n",
              "    </tr>\n",
              "    <tr>\n",
              "      <th>6845</th>\n",
              "      <td>9810</td>\n",
              "      <td>trauma</td>\n",
              "      <td>Montgomery County, MD</td>\n",
              "      <td>in response to trauma Children of Addicts deve...</td>\n",
              "      <td>0</td>\n",
              "    </tr>\n",
              "  </tbody>\n",
              "</table>\n",
              "</div>\n",
              "      <button class=\"colab-df-convert\" onclick=\"convertToInteractive('df-85bc44b9-ec87-41f9-9cfb-94a15a301bc5')\"\n",
              "              title=\"Convert this dataframe to an interactive table.\"\n",
              "              style=\"display:none;\">\n",
              "        \n",
              "  <svg xmlns=\"http://www.w3.org/2000/svg\" height=\"24px\"viewBox=\"0 0 24 24\"\n",
              "       width=\"24px\">\n",
              "    <path d=\"M0 0h24v24H0V0z\" fill=\"none\"/>\n",
              "    <path d=\"M18.56 5.44l.94 2.06.94-2.06 2.06-.94-2.06-.94-.94-2.06-.94 2.06-2.06.94zm-11 1L8.5 8.5l.94-2.06 2.06-.94-2.06-.94L8.5 2.5l-.94 2.06-2.06.94zm10 10l.94 2.06.94-2.06 2.06-.94-2.06-.94-.94-2.06-.94 2.06-2.06.94z\"/><path d=\"M17.41 7.96l-1.37-1.37c-.4-.4-.92-.59-1.43-.59-.52 0-1.04.2-1.43.59L10.3 9.45l-7.72 7.72c-.78.78-.78 2.05 0 2.83L4 21.41c.39.39.9.59 1.41.59.51 0 1.02-.2 1.41-.59l7.78-7.78 2.81-2.81c.8-.78.8-2.07 0-2.86zM5.41 20L4 18.59l7.72-7.72 1.47 1.35L5.41 20z\"/>\n",
              "  </svg>\n",
              "      </button>\n",
              "      \n",
              "  <style>\n",
              "    .colab-df-container {\n",
              "      display:flex;\n",
              "      flex-wrap:wrap;\n",
              "      gap: 12px;\n",
              "    }\n",
              "\n",
              "    .colab-df-convert {\n",
              "      background-color: #E8F0FE;\n",
              "      border: none;\n",
              "      border-radius: 50%;\n",
              "      cursor: pointer;\n",
              "      display: none;\n",
              "      fill: #1967D2;\n",
              "      height: 32px;\n",
              "      padding: 0 0 0 0;\n",
              "      width: 32px;\n",
              "    }\n",
              "\n",
              "    .colab-df-convert:hover {\n",
              "      background-color: #E2EBFA;\n",
              "      box-shadow: 0px 1px 2px rgba(60, 64, 67, 0.3), 0px 1px 3px 1px rgba(60, 64, 67, 0.15);\n",
              "      fill: #174EA6;\n",
              "    }\n",
              "\n",
              "    [theme=dark] .colab-df-convert {\n",
              "      background-color: #3B4455;\n",
              "      fill: #D2E3FC;\n",
              "    }\n",
              "\n",
              "    [theme=dark] .colab-df-convert:hover {\n",
              "      background-color: #434B5C;\n",
              "      box-shadow: 0px 1px 3px 1px rgba(0, 0, 0, 0.15);\n",
              "      filter: drop-shadow(0px 1px 2px rgba(0, 0, 0, 0.3));\n",
              "      fill: #FFFFFF;\n",
              "    }\n",
              "  </style>\n",
              "\n",
              "      <script>\n",
              "        const buttonEl =\n",
              "          document.querySelector('#df-85bc44b9-ec87-41f9-9cfb-94a15a301bc5 button.colab-df-convert');\n",
              "        buttonEl.style.display =\n",
              "          google.colab.kernel.accessAllowed ? 'block' : 'none';\n",
              "\n",
              "        async function convertToInteractive(key) {\n",
              "          const element = document.querySelector('#df-85bc44b9-ec87-41f9-9cfb-94a15a301bc5');\n",
              "          const dataTable =\n",
              "            await google.colab.kernel.invokeFunction('convertToInteractive',\n",
              "                                                     [key], {});\n",
              "          if (!dataTable) return;\n",
              "\n",
              "          const docLinkHtml = 'Like what you see? Visit the ' +\n",
              "            '<a target=\"_blank\" href=https://colab.research.google.com/notebooks/data_table.ipynb>data table notebook</a>'\n",
              "            + ' to learn more about interactive tables.';\n",
              "          element.innerHTML = '';\n",
              "          dataTable['output_type'] = 'display_data';\n",
              "          await google.colab.output.renderOutput(dataTable, element);\n",
              "          const docLink = document.createElement('div');\n",
              "          docLink.innerHTML = docLinkHtml;\n",
              "          element.appendChild(docLink);\n",
              "        }\n",
              "      </script>\n",
              "    </div>\n",
              "  </div>\n",
              "  "
            ]
          },
          "metadata": {},
          "execution_count": 6
        }
      ]
    },
    {
      "cell_type": "code",
      "source": [
        "test_df.head()"
      ],
      "metadata": {
        "colab": {
          "base_uri": "https://localhost:8080/",
          "height": 206
        },
        "id": "6yL1_qkWI4IR",
        "outputId": "47aad3c4-4034-4b70-920f-a3d21650f111"
      },
      "execution_count": null,
      "outputs": [
        {
          "output_type": "execute_result",
          "data": {
            "text/plain": [
              "   id keyword location                                               text\n",
              "0   0     NaN      NaN                 Just happened a terrible car crash\n",
              "1   2     NaN      NaN  Heard about #earthquake is different cities, s...\n",
              "2   3     NaN      NaN  there is a forest fire at spot pond, geese are...\n",
              "3   9     NaN      NaN           Apocalypse lighting. #Spokane #wildfires\n",
              "4  11     NaN      NaN      Typhoon Soudelor kills 28 in China and Taiwan"
            ],
            "text/html": [
              "\n",
              "  <div id=\"df-3e5641c3-aca8-45dc-b35e-bee3cf642375\">\n",
              "    <div class=\"colab-df-container\">\n",
              "      <div>\n",
              "<style scoped>\n",
              "    .dataframe tbody tr th:only-of-type {\n",
              "        vertical-align: middle;\n",
              "    }\n",
              "\n",
              "    .dataframe tbody tr th {\n",
              "        vertical-align: top;\n",
              "    }\n",
              "\n",
              "    .dataframe thead th {\n",
              "        text-align: right;\n",
              "    }\n",
              "</style>\n",
              "<table border=\"1\" class=\"dataframe\">\n",
              "  <thead>\n",
              "    <tr style=\"text-align: right;\">\n",
              "      <th></th>\n",
              "      <th>id</th>\n",
              "      <th>keyword</th>\n",
              "      <th>location</th>\n",
              "      <th>text</th>\n",
              "    </tr>\n",
              "  </thead>\n",
              "  <tbody>\n",
              "    <tr>\n",
              "      <th>0</th>\n",
              "      <td>0</td>\n",
              "      <td>NaN</td>\n",
              "      <td>NaN</td>\n",
              "      <td>Just happened a terrible car crash</td>\n",
              "    </tr>\n",
              "    <tr>\n",
              "      <th>1</th>\n",
              "      <td>2</td>\n",
              "      <td>NaN</td>\n",
              "      <td>NaN</td>\n",
              "      <td>Heard about #earthquake is different cities, s...</td>\n",
              "    </tr>\n",
              "    <tr>\n",
              "      <th>2</th>\n",
              "      <td>3</td>\n",
              "      <td>NaN</td>\n",
              "      <td>NaN</td>\n",
              "      <td>there is a forest fire at spot pond, geese are...</td>\n",
              "    </tr>\n",
              "    <tr>\n",
              "      <th>3</th>\n",
              "      <td>9</td>\n",
              "      <td>NaN</td>\n",
              "      <td>NaN</td>\n",
              "      <td>Apocalypse lighting. #Spokane #wildfires</td>\n",
              "    </tr>\n",
              "    <tr>\n",
              "      <th>4</th>\n",
              "      <td>11</td>\n",
              "      <td>NaN</td>\n",
              "      <td>NaN</td>\n",
              "      <td>Typhoon Soudelor kills 28 in China and Taiwan</td>\n",
              "    </tr>\n",
              "  </tbody>\n",
              "</table>\n",
              "</div>\n",
              "      <button class=\"colab-df-convert\" onclick=\"convertToInteractive('df-3e5641c3-aca8-45dc-b35e-bee3cf642375')\"\n",
              "              title=\"Convert this dataframe to an interactive table.\"\n",
              "              style=\"display:none;\">\n",
              "        \n",
              "  <svg xmlns=\"http://www.w3.org/2000/svg\" height=\"24px\"viewBox=\"0 0 24 24\"\n",
              "       width=\"24px\">\n",
              "    <path d=\"M0 0h24v24H0V0z\" fill=\"none\"/>\n",
              "    <path d=\"M18.56 5.44l.94 2.06.94-2.06 2.06-.94-2.06-.94-.94-2.06-.94 2.06-2.06.94zm-11 1L8.5 8.5l.94-2.06 2.06-.94-2.06-.94L8.5 2.5l-.94 2.06-2.06.94zm10 10l.94 2.06.94-2.06 2.06-.94-2.06-.94-.94-2.06-.94 2.06-2.06.94z\"/><path d=\"M17.41 7.96l-1.37-1.37c-.4-.4-.92-.59-1.43-.59-.52 0-1.04.2-1.43.59L10.3 9.45l-7.72 7.72c-.78.78-.78 2.05 0 2.83L4 21.41c.39.39.9.59 1.41.59.51 0 1.02-.2 1.41-.59l7.78-7.78 2.81-2.81c.8-.78.8-2.07 0-2.86zM5.41 20L4 18.59l7.72-7.72 1.47 1.35L5.41 20z\"/>\n",
              "  </svg>\n",
              "      </button>\n",
              "      \n",
              "  <style>\n",
              "    .colab-df-container {\n",
              "      display:flex;\n",
              "      flex-wrap:wrap;\n",
              "      gap: 12px;\n",
              "    }\n",
              "\n",
              "    .colab-df-convert {\n",
              "      background-color: #E8F0FE;\n",
              "      border: none;\n",
              "      border-radius: 50%;\n",
              "      cursor: pointer;\n",
              "      display: none;\n",
              "      fill: #1967D2;\n",
              "      height: 32px;\n",
              "      padding: 0 0 0 0;\n",
              "      width: 32px;\n",
              "    }\n",
              "\n",
              "    .colab-df-convert:hover {\n",
              "      background-color: #E2EBFA;\n",
              "      box-shadow: 0px 1px 2px rgba(60, 64, 67, 0.3), 0px 1px 3px 1px rgba(60, 64, 67, 0.15);\n",
              "      fill: #174EA6;\n",
              "    }\n",
              "\n",
              "    [theme=dark] .colab-df-convert {\n",
              "      background-color: #3B4455;\n",
              "      fill: #D2E3FC;\n",
              "    }\n",
              "\n",
              "    [theme=dark] .colab-df-convert:hover {\n",
              "      background-color: #434B5C;\n",
              "      box-shadow: 0px 1px 3px 1px rgba(0, 0, 0, 0.15);\n",
              "      filter: drop-shadow(0px 1px 2px rgba(0, 0, 0, 0.3));\n",
              "      fill: #FFFFFF;\n",
              "    }\n",
              "  </style>\n",
              "\n",
              "      <script>\n",
              "        const buttonEl =\n",
              "          document.querySelector('#df-3e5641c3-aca8-45dc-b35e-bee3cf642375 button.colab-df-convert');\n",
              "        buttonEl.style.display =\n",
              "          google.colab.kernel.accessAllowed ? 'block' : 'none';\n",
              "\n",
              "        async function convertToInteractive(key) {\n",
              "          const element = document.querySelector('#df-3e5641c3-aca8-45dc-b35e-bee3cf642375');\n",
              "          const dataTable =\n",
              "            await google.colab.kernel.invokeFunction('convertToInteractive',\n",
              "                                                     [key], {});\n",
              "          if (!dataTable) return;\n",
              "\n",
              "          const docLinkHtml = 'Like what you see? Visit the ' +\n",
              "            '<a target=\"_blank\" href=https://colab.research.google.com/notebooks/data_table.ipynb>data table notebook</a>'\n",
              "            + ' to learn more about interactive tables.';\n",
              "          element.innerHTML = '';\n",
              "          dataTable['output_type'] = 'display_data';\n",
              "          await google.colab.output.renderOutput(dataTable, element);\n",
              "          const docLink = document.createElement('div');\n",
              "          docLink.innerHTML = docLinkHtml;\n",
              "          element.appendChild(docLink);\n",
              "        }\n",
              "      </script>\n",
              "    </div>\n",
              "  </div>\n",
              "  "
            ]
          },
          "metadata": {},
          "execution_count": 7
        }
      ]
    },
    {
      "cell_type": "markdown",
      "source": [
        "No target ie whether disaster or not column is present in test dataset for obv reason"
      ],
      "metadata": {
        "id": "MnD7ieImJAc_"
      }
    },
    {
      "cell_type": "code",
      "source": [
        "len(train_df) , len(test_df)"
      ],
      "metadata": {
        "colab": {
          "base_uri": "https://localhost:8080/"
        },
        "id": "-Wr7fTMjI9ic",
        "outputId": "72725cc2-0328-4be7-b869-49f8d0fa66c9"
      },
      "execution_count": null,
      "outputs": [
        {
          "output_type": "execute_result",
          "data": {
            "text/plain": [
              "(7613, 3263)"
            ]
          },
          "metadata": {},
          "execution_count": 8
        }
      ]
    },
    {
      "cell_type": "code",
      "source": [
        "# Visualizing random samples\n",
        "random_index = random.randint(0,len(train_df) - 5)\n",
        "#create random indexes not higher than the length\n",
        "\n",
        "for row in train_df_shuffled[[\"text\" , \"target\"]][random_index:random_index+5].itertuples():\n",
        "  _ , text , target = row\n",
        "  print(f\"Target :{target}\" , \"(real disaster)\" if target>0 else \"(not real disaster)\")\n",
        "  print(f\"Text:\\n{text}\\n\")\n",
        "  print(\"-----\\n\")"
      ],
      "metadata": {
        "colab": {
          "base_uri": "https://localhost:8080/"
        },
        "id": "SklkCCFAJgTS",
        "outputId": "9c19722f-fcd0-4d57-c66e-9b9b518053c9"
      },
      "execution_count": null,
      "outputs": [
        {
          "output_type": "stream",
          "name": "stdout",
          "text": [
            "Target :0 (not real disaster)\n",
            "Text:\n",
            "#PBBan (Temporary:300) fighterdena @'aRmageddon | DO NOT KILL | FLAGS ONLY | Fast XP' for Reason\n",
            "\n",
            "-----\n",
            "\n",
            "Target :1 (real disaster)\n",
            "Text:\n",
            "@TheSmallClark 'He'll kill me instead if he survived the shot. I don't exactly know. I fled the scene and pulled the trigger with---\n",
            "\n",
            "-----\n",
            "\n",
            "Target :0 (not real disaster)\n",
            "Text:\n",
            "One thing you can be sure of. There will never be bush fires in Scotland as the ground is always soaking wet????\n",
            "\n",
            "-----\n",
            "\n",
            "Target :0 (not real disaster)\n",
            "Text:\n",
            "@Trollkrattos Juan Carlos Salvador The Secret Tips to Get 100.000 Riot Points LoL are out now! check the Secret on on my Bio\n",
            "\n",
            "-----\n",
            "\n",
            "Target :0 (not real disaster)\n",
            "Text:\n",
            "Ignition Knock (Detonation) Sensor-Senso Standard fits 02-06 Acura RSX 2.0L-L4 http://t.co/VZaIQAMDCp http://t.co/ycecN44c8P\n",
            "\n",
            "-----\n",
            "\n"
          ]
        }
      ]
    },
    {
      "cell_type": "markdown",
      "source": [
        "# Splitting data sets"
      ],
      "metadata": {
        "id": "Ziy1KTSDK6ma"
      }
    },
    {
      "cell_type": "code",
      "source": [
        "# split data into training and validation sets\n",
        "\n",
        "from sklearn.model_selection import train_test_split\n"
      ],
      "metadata": {
        "id": "tlJ9WiuXKdx1"
      },
      "execution_count": null,
      "outputs": []
    },
    {
      "cell_type": "code",
      "source": [
        "# splitting\n",
        "\n",
        "train_sentences , val_sentences , train_labels , val_labels = train_test_split(train_df_shuffled[\"text\"].to_numpy(),\n",
        "                                                                               train_df_shuffled[\"target\"].to_numpy(),\n",
        "                                                                               test_size=0.1,# 10% of data for validation\n",
        "                                                                               random_state=42)"
      ],
      "metadata": {
        "id": "nmQLfUmuLSAG"
      },
      "execution_count": null,
      "outputs": []
    },
    {
      "cell_type": "code",
      "source": [
        "train_sentences[:5] , train_labels[:5]"
      ],
      "metadata": {
        "colab": {
          "base_uri": "https://localhost:8080/"
        },
        "id": "_b5C9rYKL27g",
        "outputId": "9b8979e8-004f-4ef5-b531-4d1a35b7129e"
      },
      "execution_count": null,
      "outputs": [
        {
          "output_type": "execute_result",
          "data": {
            "text/plain": [
              "(array(['@mogacola @zamtriossu i screamed after hitting tweet',\n",
              "        'Imagine getting flattened by Kurt Zouma',\n",
              "        '@Gurmeetramrahim #MSGDoing111WelfareWorks Green S welfare force ke appx 65000 members har time disaster victim ki help ke liye tyar hai....',\n",
              "        \"@shakjn @C7 @Magnums im shaking in fear he's gonna hack the planet\",\n",
              "        'Somehow find you and I collide http://t.co/Ee8RpOahPk'],\n",
              "       dtype=object),\n",
              " array([0, 0, 1, 0, 0]))"
            ]
          },
          "metadata": {},
          "execution_count": 12
        }
      ]
    },
    {
      "cell_type": "markdown",
      "source": [
        "# ***TOKENIZATION AND EMBEDDING***\n",
        "**Tokenization** - straight mapping from token to number(gets too big)\\\n",
        "**Embedding**- create a matrix of feature vector of tokens(can be learned)"
      ],
      "metadata": {
        "id": "phGPpVIxMdg3"
      }
    },
    {
      "cell_type": "markdown",
      "source": [
        "`Text Vectorization (tokenization)`"
      ],
      "metadata": {
        "id": "-Yk7cORegmfc"
      }
    },
    {
      "cell_type": "code",
      "source": [
        "from tensorflow.keras.layers.experimental.preprocessing import TextVectorization\n",
        "\n",
        "# this is a DEFAULT TextVect. param\n",
        "\n",
        "text_vectorizer = TextVectorization(max_tokens=None,# how many words in vocabulary;None means no limit\n",
        "                                    standardize=\"lower_and_strip_punctuation\",\n",
        "                                    split=\"whitespace\",\n",
        "                                    ngrams=None,# create groups of n words\n",
        "                                    output_mode=\"int\",#how to map tokens into num\n",
        "                                    output_sequence_length=None# how long you want your sequences to be\n",
        "                                    )"
      ],
      "metadata": {
        "id": "a9_sikYJMO2a"
      },
      "execution_count": null,
      "outputs": []
    },
    {
      "cell_type": "code",
      "source": [
        "# Finding the average number of tokens (words) in trainset\n",
        "\n",
        "round(sum([len(i.split()) for i in train_sentences])/len(train_sentences))"
      ],
      "metadata": {
        "colab": {
          "base_uri": "https://localhost:8080/"
        },
        "id": "3C0Phlc5ise-",
        "outputId": "28e5b3d1-927d-439f-c104-b1dc4791c668"
      },
      "execution_count": null,
      "outputs": [
        {
          "output_type": "execute_result",
          "data": {
            "text/plain": [
              "15"
            ]
          },
          "metadata": {},
          "execution_count": 12
        }
      ]
    },
    {
      "cell_type": "code",
      "source": [
        "# setting up tex vect. vars\n",
        "\n",
        "max_vocab_length = 10000  # max nums of words in our vocab\n",
        "max_length = 15   # max length our sequences will be\n",
        "\n",
        "text_vectorizer = TextVectorization(max_tokens = max_vocab_length,\n",
        "                                    output_mode = \"int\",\n",
        "                                    output_sequence_length = max_length)"
      ],
      "metadata": {
        "id": "WWKuPCUAjlwd"
      },
      "execution_count": null,
      "outputs": []
    },
    {
      "cell_type": "markdown",
      "source": [
        "\n",
        "\n",
        "```\n",
        "# Fit the text vectorizer to training set\n",
        "```\n",
        "\n"
      ],
      "metadata": {
        "id": "eJlPH7aokiDG"
      }
    },
    {
      "cell_type": "code",
      "source": [
        "text_vectorizer.adapt(train_sentences)"
      ],
      "metadata": {
        "id": "girsgVVakSya"
      },
      "execution_count": null,
      "outputs": []
    },
    {
      "cell_type": "code",
      "source": [
        "# create a sample sentences and tokenize it\n",
        "\n",
        "sample_sent = \"There's a flood here!\"\n",
        "text_vectorizer([sample_sent])"
      ],
      "metadata": {
        "colab": {
          "base_uri": "https://localhost:8080/"
        },
        "id": "C6ejX9Dek1EN",
        "outputId": "f4ee4e69-0cd3-4094-c06b-80b75ff81474"
      },
      "execution_count": null,
      "outputs": [
        {
          "output_type": "execute_result",
          "data": {
            "text/plain": [
              "<tf.Tensor: shape=(1, 15), dtype=int64, numpy=\n",
              "array([[264,   3, 232, 140,   0,   0,   0,   0,   0,   0,   0,   0,   0,\n",
              "          0,   0]])>"
            ]
          },
          "metadata": {},
          "execution_count": 15
        }
      ]
    },
    {
      "cell_type": "code",
      "source": [
        "# getting the vocab ; most common words and least common\n",
        "\n",
        "word_in_vocab = text_vectorizer.get_vocabulary()\n",
        "top_5 = word_in_vocab[:5]\n",
        "least_5 = word_in_vocab[-5:]\n",
        "\n",
        "print(f\"Top 5 words : {top_5}\")\n",
        "print(f\"Least 5 words : {least_5}\")"
      ],
      "metadata": {
        "colab": {
          "base_uri": "https://localhost:8080/"
        },
        "id": "A6_DQBDylCRJ",
        "outputId": "0f796090-67f5-461d-dad3-dd8e3cf85298"
      },
      "execution_count": null,
      "outputs": [
        {
          "output_type": "stream",
          "name": "stdout",
          "text": [
            "Top 5 words : ['', '[UNK]', 'the', 'a', 'in']\n",
            "Least 5 words : ['pages', 'paeds', 'pads', 'padres', 'paddytomlinson1']\n"
          ]
        }
      ]
    },
    {
      "cell_type": "markdown",
      "source": [
        "**Create an Embedding layer**"
      ],
      "metadata": {
        "id": "wk7gp_FhnBKk"
      }
    },
    {
      "cell_type": "code",
      "source": [
        "from tensorflow.keras.layers import Embedding\n",
        "\n",
        "embedding = Embedding(input_dim = max_vocab_length , #input shape\n",
        "                      output_dim = 128, # output shape\n",
        "                      input_length = max_length # how long each input\n",
        "                      )\n",
        "embedding"
      ],
      "metadata": {
        "colab": {
          "base_uri": "https://localhost:8080/"
        },
        "id": "9eGa4WPGmUGk",
        "outputId": "9b8cce60-6397-4de9-beb0-9b518974aad7"
      },
      "execution_count": null,
      "outputs": [
        {
          "output_type": "execute_result",
          "data": {
            "text/plain": [
              "<keras.layers.core.embedding.Embedding at 0x7eff91eae380>"
            ]
          },
          "metadata": {},
          "execution_count": 17
        }
      ]
    },
    {
      "cell_type": "code",
      "source": [
        "# get a random sentence from trainset\n",
        "rand_sent = random.choice(train_sentences)\n",
        "\n",
        "print(f\"Original sentence : {rand_sent}\\\n",
        "        \\n\\nEmbedding Version : \")\n",
        "\n",
        "# embed the random sentence (turn text into dense vector of fixed size)\n",
        "\n",
        "sample_embed = embedding(text_vectorizer([rand_sent])) # first into number conversion is important\n",
        "sample_embed"
      ],
      "metadata": {
        "colab": {
          "base_uri": "https://localhost:8080/"
        },
        "id": "bQdQP7xqrBnz",
        "outputId": "ac8d67b5-8868-4c08-8943-fb0647b45553"
      },
      "execution_count": null,
      "outputs": [
        {
          "output_type": "stream",
          "name": "stdout",
          "text": [
            "Original sentence : Israel wrecked my home. Now it wants my land. \n",
            "https://t.co/g0r3ZR1nQj        \n",
            "\n",
            "Embedding Version : \n"
          ]
        },
        {
          "output_type": "execute_result",
          "data": {
            "text/plain": [
              "<tf.Tensor: shape=(1, 15, 128), dtype=float32, numpy=\n",
              "array([[[-0.02386436, -0.04764616, -0.0281808 , ...,  0.02162858,\n",
              "          0.02647335,  0.03772653],\n",
              "        [-0.01653626,  0.04817483, -0.02101632, ...,  0.03784559,\n",
              "          0.00095423,  0.04317922],\n",
              "        [ 0.02891326,  0.04493472,  0.02089853, ...,  0.00099596,\n",
              "          0.00646358,  0.01160705],\n",
              "        ...,\n",
              "        [-0.02743645, -0.02670559,  0.01818975, ..., -0.02607914,\n",
              "         -0.02389035,  0.00322197],\n",
              "        [-0.02743645, -0.02670559,  0.01818975, ..., -0.02607914,\n",
              "         -0.02389035,  0.00322197],\n",
              "        [-0.02743645, -0.02670559,  0.01818975, ..., -0.02607914,\n",
              "         -0.02389035,  0.00322197]]], dtype=float32)>"
            ]
          },
          "metadata": {},
          "execution_count": 18
        }
      ]
    },
    {
      "cell_type": "code",
      "source": [
        "# check out a single token's embedding\n",
        "\n",
        "sample_embed[0][0] , sample_embed[0][0].shape , rand_sent[0]"
      ],
      "metadata": {
        "colab": {
          "base_uri": "https://localhost:8080/"
        },
        "id": "LMAhs6K4rsy6",
        "outputId": "11572214-de99-4935-f4fa-04766e66866a"
      },
      "execution_count": null,
      "outputs": [
        {
          "output_type": "execute_result",
          "data": {
            "text/plain": [
              "(<tf.Tensor: shape=(128,), dtype=float32, numpy=\n",
              " array([-0.00098925,  0.04653994, -0.02439513,  0.02153168,  0.01127124,\n",
              "         0.01609306, -0.0135648 , -0.03849079, -0.03995124, -0.04473505,\n",
              "         0.0315646 , -0.00928897,  0.01359913,  0.02098859, -0.00543288,\n",
              "        -0.02396668, -0.04515962,  0.01608906, -0.02405332,  0.04433027,\n",
              "         0.02717086, -0.01314848, -0.04848145,  0.02239174, -0.01870972,\n",
              "         0.0345982 , -0.03503584,  0.0458903 ,  0.04582569,  0.0139333 ,\n",
              "        -0.01620799,  0.03294451,  0.01755339, -0.01206533,  0.04993606,\n",
              "        -0.01897625, -0.00279555,  0.0334827 ,  0.01599715,  0.01437238,\n",
              "        -0.00206081,  0.03076044, -0.04533581,  0.03655523,  0.03117817,\n",
              "        -0.01971423,  0.01863886,  0.04034492, -0.00402304, -0.02723709,\n",
              "        -0.00250192,  0.04963082,  0.0021091 ,  0.01666192, -0.03388538,\n",
              "         0.01348719,  0.01551557, -0.04477176, -0.01037661,  0.00542253,\n",
              "        -0.0121279 ,  0.01956587,  0.0450444 ,  0.02999339,  0.00012437,\n",
              "        -0.00863199, -0.01112128, -0.00667032,  0.0091455 , -0.01493631,\n",
              "         0.02794125, -0.0207887 ,  0.04897438,  0.02145307, -0.00777053,\n",
              "        -0.0344095 , -0.01740203, -0.0077358 , -0.00172156,  0.04487219,\n",
              "         0.04706198,  0.03846624,  0.01064625, -0.00417395, -0.01479495,\n",
              "         0.01466111,  0.03082111, -0.04354037, -0.00595527, -0.0024435 ,\n",
              "         0.01600189, -0.04105675, -0.01780929, -0.00603152, -0.04262304,\n",
              "        -0.00917641, -0.0267161 ,  0.01140522,  0.02967605, -0.01615503,\n",
              "         0.02067803, -0.01675498,  0.04941596,  0.03639534, -0.03249933,\n",
              "        -0.02569385,  0.00083392, -0.03611063, -0.01295755, -0.01700354,\n",
              "         0.02125594,  0.00174329,  0.03529615, -0.03588194, -0.04531267,\n",
              "        -0.007928  , -0.03569324, -0.00421281, -0.03673688, -0.0334513 ,\n",
              "        -0.01987594,  0.02997703, -0.02117955,  0.01049514, -0.02781575,\n",
              "         0.01058467,  0.02766833,  0.00500327], dtype=float32)>,\n",
              " TensorShape([128]),\n",
              " '@')"
            ]
          },
          "metadata": {},
          "execution_count": 21
        }
      ]
    },
    {
      "cell_type": "markdown",
      "source": [
        "# Modelling datasets"
      ],
      "metadata": {
        "id": "78LBUpV1cdcu"
      }
    },
    {
      "cell_type": "markdown",
      "source": [
        "`Baseline model : Naive Bayes text classifier`- from SKlearn ml map"
      ],
      "metadata": {
        "id": "OHEzLQ7pc-o0"
      }
    },
    {
      "cell_type": "code",
      "source": [
        "# Model 0  Naive bayes multinomial using TF-IDF formula\n",
        "# pretrained model from scikit learn\n",
        "\n",
        "from sklearn.feature_extraction.text import TfidfVectorizer\n",
        "from sklearn.naive_bayes import MultinomialNB\n",
        "from sklearn.pipeline import Pipeline\n",
        "\n",
        "\n",
        "# Create tokenization and modelling pipeline\n",
        "\n",
        "model_0 = Pipeline([\n",
        "    (\"tfidf\" , TfidfVectorizer()),    # convert words into number using tfidf\n",
        "    (\"clf\" , MultinomialNB())   # model the text\n",
        "])\n",
        "\n",
        "model_0.fit(train_sentences , train_labels)\n"
      ],
      "metadata": {
        "id": "-0olgUMrsKTq",
        "colab": {
          "base_uri": "https://localhost:8080/",
          "height": 125
        },
        "outputId": "afde0b0d-8c6e-416b-bf2e-64bbc3e46699"
      },
      "execution_count": null,
      "outputs": [
        {
          "output_type": "execute_result",
          "data": {
            "text/plain": [
              "Pipeline(steps=[('tfidf', TfidfVectorizer()), ('clf', MultinomialNB())])"
            ],
            "text/html": [
              "<style>#sk-container-id-1 {color: black;background-color: white;}#sk-container-id-1 pre{padding: 0;}#sk-container-id-1 div.sk-toggleable {background-color: white;}#sk-container-id-1 label.sk-toggleable__label {cursor: pointer;display: block;width: 100%;margin-bottom: 0;padding: 0.3em;box-sizing: border-box;text-align: center;}#sk-container-id-1 label.sk-toggleable__label-arrow:before {content: \"▸\";float: left;margin-right: 0.25em;color: #696969;}#sk-container-id-1 label.sk-toggleable__label-arrow:hover:before {color: black;}#sk-container-id-1 div.sk-estimator:hover label.sk-toggleable__label-arrow:before {color: black;}#sk-container-id-1 div.sk-toggleable__content {max-height: 0;max-width: 0;overflow: hidden;text-align: left;background-color: #f0f8ff;}#sk-container-id-1 div.sk-toggleable__content pre {margin: 0.2em;color: black;border-radius: 0.25em;background-color: #f0f8ff;}#sk-container-id-1 input.sk-toggleable__control:checked~div.sk-toggleable__content {max-height: 200px;max-width: 100%;overflow: auto;}#sk-container-id-1 input.sk-toggleable__control:checked~label.sk-toggleable__label-arrow:before {content: \"▾\";}#sk-container-id-1 div.sk-estimator input.sk-toggleable__control:checked~label.sk-toggleable__label {background-color: #d4ebff;}#sk-container-id-1 div.sk-label input.sk-toggleable__control:checked~label.sk-toggleable__label {background-color: #d4ebff;}#sk-container-id-1 input.sk-hidden--visually {border: 0;clip: rect(1px 1px 1px 1px);clip: rect(1px, 1px, 1px, 1px);height: 1px;margin: -1px;overflow: hidden;padding: 0;position: absolute;width: 1px;}#sk-container-id-1 div.sk-estimator {font-family: monospace;background-color: #f0f8ff;border: 1px dotted black;border-radius: 0.25em;box-sizing: border-box;margin-bottom: 0.5em;}#sk-container-id-1 div.sk-estimator:hover {background-color: #d4ebff;}#sk-container-id-1 div.sk-parallel-item::after {content: \"\";width: 100%;border-bottom: 1px solid gray;flex-grow: 1;}#sk-container-id-1 div.sk-label:hover label.sk-toggleable__label {background-color: #d4ebff;}#sk-container-id-1 div.sk-serial::before {content: \"\";position: absolute;border-left: 1px solid gray;box-sizing: border-box;top: 0;bottom: 0;left: 50%;z-index: 0;}#sk-container-id-1 div.sk-serial {display: flex;flex-direction: column;align-items: center;background-color: white;padding-right: 0.2em;padding-left: 0.2em;position: relative;}#sk-container-id-1 div.sk-item {position: relative;z-index: 1;}#sk-container-id-1 div.sk-parallel {display: flex;align-items: stretch;justify-content: center;background-color: white;position: relative;}#sk-container-id-1 div.sk-item::before, #sk-container-id-1 div.sk-parallel-item::before {content: \"\";position: absolute;border-left: 1px solid gray;box-sizing: border-box;top: 0;bottom: 0;left: 50%;z-index: -1;}#sk-container-id-1 div.sk-parallel-item {display: flex;flex-direction: column;z-index: 1;position: relative;background-color: white;}#sk-container-id-1 div.sk-parallel-item:first-child::after {align-self: flex-end;width: 50%;}#sk-container-id-1 div.sk-parallel-item:last-child::after {align-self: flex-start;width: 50%;}#sk-container-id-1 div.sk-parallel-item:only-child::after {width: 0;}#sk-container-id-1 div.sk-dashed-wrapped {border: 1px dashed gray;margin: 0 0.4em 0.5em 0.4em;box-sizing: border-box;padding-bottom: 0.4em;background-color: white;}#sk-container-id-1 div.sk-label label {font-family: monospace;font-weight: bold;display: inline-block;line-height: 1.2em;}#sk-container-id-1 div.sk-label-container {text-align: center;}#sk-container-id-1 div.sk-container {/* jupyter's `normalize.less` sets `[hidden] { display: none; }` but bootstrap.min.css set `[hidden] { display: none !important; }` so we also need the `!important` here to be able to override the default hidden behavior on the sphinx rendered scikit-learn.org. See: https://github.com/scikit-learn/scikit-learn/issues/21755 */display: inline-block !important;position: relative;}#sk-container-id-1 div.sk-text-repr-fallback {display: none;}</style><div id=\"sk-container-id-1\" class=\"sk-top-container\"><div class=\"sk-text-repr-fallback\"><pre>Pipeline(steps=[(&#x27;tfidf&#x27;, TfidfVectorizer()), (&#x27;clf&#x27;, MultinomialNB())])</pre><b>In a Jupyter environment, please rerun this cell to show the HTML representation or trust the notebook. <br />On GitHub, the HTML representation is unable to render, please try loading this page with nbviewer.org.</b></div><div class=\"sk-container\" hidden><div class=\"sk-item sk-dashed-wrapped\"><div class=\"sk-label-container\"><div class=\"sk-label sk-toggleable\"><input class=\"sk-toggleable__control sk-hidden--visually\" id=\"sk-estimator-id-1\" type=\"checkbox\" ><label for=\"sk-estimator-id-1\" class=\"sk-toggleable__label sk-toggleable__label-arrow\">Pipeline</label><div class=\"sk-toggleable__content\"><pre>Pipeline(steps=[(&#x27;tfidf&#x27;, TfidfVectorizer()), (&#x27;clf&#x27;, MultinomialNB())])</pre></div></div></div><div class=\"sk-serial\"><div class=\"sk-item\"><div class=\"sk-estimator sk-toggleable\"><input class=\"sk-toggleable__control sk-hidden--visually\" id=\"sk-estimator-id-2\" type=\"checkbox\" ><label for=\"sk-estimator-id-2\" class=\"sk-toggleable__label sk-toggleable__label-arrow\">TfidfVectorizer</label><div class=\"sk-toggleable__content\"><pre>TfidfVectorizer()</pre></div></div></div><div class=\"sk-item\"><div class=\"sk-estimator sk-toggleable\"><input class=\"sk-toggleable__control sk-hidden--visually\" id=\"sk-estimator-id-3\" type=\"checkbox\" ><label for=\"sk-estimator-id-3\" class=\"sk-toggleable__label sk-toggleable__label-arrow\">MultinomialNB</label><div class=\"sk-toggleable__content\"><pre>MultinomialNB()</pre></div></div></div></div></div></div></div>"
            ]
          },
          "metadata": {},
          "execution_count": 19
        }
      ]
    },
    {
      "cell_type": "code",
      "source": [
        "# evaluate our baseline model\n",
        "\n",
        "baseline_score = model_0.score(val_sentences , val_labels)\n",
        "print(f\"Baseline accuracy : {baseline_score*100:.2f}%\")"
      ],
      "metadata": {
        "colab": {
          "base_uri": "https://localhost:8080/"
        },
        "id": "U7ampHQdfNhz",
        "outputId": "54962501-346e-43bd-c9c4-6407df06187f"
      },
      "execution_count": null,
      "outputs": [
        {
          "output_type": "stream",
          "name": "stdout",
          "text": [
            "Baseline accuracy : 79.27%\n"
          ]
        }
      ]
    },
    {
      "cell_type": "code",
      "source": [
        "# making preds\n",
        "\n",
        "baseline_preds = model_0.predict(val_sentences)\n",
        "baseline_preds[:10]"
      ],
      "metadata": {
        "colab": {
          "base_uri": "https://localhost:8080/"
        },
        "id": "cDWDxQZdfpjx",
        "outputId": "d366a3e8-fa41-434f-8e18-e729820f989e"
      },
      "execution_count": null,
      "outputs": [
        {
          "output_type": "execute_result",
          "data": {
            "text/plain": [
              "array([1, 1, 1, 0, 0, 1, 1, 1, 1, 0])"
            ]
          },
          "metadata": {},
          "execution_count": 21
        }
      ]
    },
    {
      "cell_type": "code",
      "source": [
        "# creating an evaluation function for model experiments(Binary classification)\n",
        "# metrics used: Accuracy , precision , Recall, F1-score(comb of pres and recall)\n",
        "\n",
        "from sklearn.metrics import accuracy_score , precision_recall_fscore_support\n",
        "\n",
        "def calculate_results(y_true , y_pred):\n",
        "  model_accuracy = accuracy_score(y_true , y_pred)*100\n",
        "  # calculate model pres , recall , f1 score using \"weighted\" average\n",
        "  model_precision , model_recall , model_f1 , _ = precision_recall_fscore_support(y_true , y_pred , average = \"weighted\")\n",
        "  model_results = {\"accuracy\" : model_accuracy,\n",
        "                   \"precison\" : model_precision,\n",
        "                   \"recall\": model_recall,\n",
        "                   \"F1 score\" : model_f1}\n",
        "  return model_results"
      ],
      "metadata": {
        "id": "-Gt0LYIqf4y5"
      },
      "execution_count": null,
      "outputs": []
    },
    {
      "cell_type": "code",
      "source": [
        "# getting baseline res\n",
        "\n",
        "baseline_res = calculate_results(y_true = val_labels,\n",
        "                                 y_pred = baseline_preds)\n",
        "baseline_res"
      ],
      "metadata": {
        "colab": {
          "base_uri": "https://localhost:8080/"
        },
        "id": "npsYbBvFhlrp",
        "outputId": "456e472b-70c1-4989-b758-1301e80bb77c"
      },
      "execution_count": null,
      "outputs": [
        {
          "output_type": "execute_result",
          "data": {
            "text/plain": [
              "{'accuracy': 79.26509186351706,\n",
              " 'precison': 0.8111390004213173,\n",
              " 'recall': 0.7926509186351706,\n",
              " 'F1 score': 0.7862189758049549}"
            ]
          },
          "metadata": {},
          "execution_count": 23
        }
      ]
    },
    {
      "cell_type": "markdown",
      "source": [
        "`Model-1: a simple dense model; Feed Forward NN`"
      ],
      "metadata": {
        "id": "JimWxvi8iv9Q"
      }
    },
    {
      "cell_type": "code",
      "source": [
        "# Creating a tensorboard callback\n",
        "\n",
        "from helper_functions import create_tensorboard_callback\n",
        "\n",
        "# Create a directory to save tensorboard logs\n",
        "SAVE_DIR = \"model_logs\""
      ],
      "metadata": {
        "id": "i0Ec3te6hyY3"
      },
      "execution_count": null,
      "outputs": []
    },
    {
      "cell_type": "code",
      "source": [
        "from tensorflow.keras import layers\n",
        "\n",
        "#Using Functional API\n",
        "\n",
        "inputs = layers.Input(shape=(1,) , dtype=tf.string) # inputs are 1-D strings\n",
        "x = text_vectorizer(inputs) # turn input text into numbers\n",
        "\n",
        "x = embedding(x)  # Turned into an embedding\n",
        "\n",
        "x = layers.GlobalAveragePooling1D()(x)  # condense feature vect for each token to one vector\n",
        "\n",
        "outputs = layers.Dense(1 , activation=\"sigmoid\")(x)\n",
        "model_1 = tf.keras.Model(inputs , outputs , name=\"Model_1_Dense\")\n"
      ],
      "metadata": {
        "id": "HK3l4AnkjTY4"
      },
      "execution_count": null,
      "outputs": []
    },
    {
      "cell_type": "code",
      "source": [
        "model_1.summary()"
      ],
      "metadata": {
        "colab": {
          "base_uri": "https://localhost:8080/"
        },
        "id": "pULi6ovQkIhr",
        "outputId": "c10fc72e-de56-41ee-dc65-fd43696bd572"
      },
      "execution_count": null,
      "outputs": [
        {
          "output_type": "stream",
          "name": "stdout",
          "text": [
            "Model: \"Model_1_Dense\"\n",
            "_________________________________________________________________\n",
            " Layer (type)                Output Shape              Param #   \n",
            "=================================================================\n",
            " input_1 (InputLayer)        [(None, 1)]               0         \n",
            "                                                                 \n",
            " text_vectorization_1 (TextV  (None, 15)               0         \n",
            " ectorization)                                                   \n",
            "                                                                 \n",
            " embedding (Embedding)       (None, 15, 128)           1280000   \n",
            "                                                                 \n",
            " global_average_pooling1d (G  (None, 128)              0         \n",
            " lobalAveragePooling1D)                                          \n",
            "                                                                 \n",
            " dense (Dense)               (None, 1)                 129       \n",
            "                                                                 \n",
            "=================================================================\n",
            "Total params: 1,280,129\n",
            "Trainable params: 1,280,129\n",
            "Non-trainable params: 0\n",
            "_________________________________________________________________\n"
          ]
        }
      ]
    },
    {
      "cell_type": "code",
      "source": [
        "model_1.compile(loss = \"binary_crossentropy\",\n",
        "                optimizer = tf.keras.optimizers.Adam(),\n",
        "                metrics=[\"accuracy\"])"
      ],
      "metadata": {
        "id": "MIedJ4jHkMiX"
      },
      "execution_count": null,
      "outputs": []
    },
    {
      "cell_type": "code",
      "source": [
        "model1_hist = model_1.fit(x=train_sentences,\n",
        "            y=train_labels,\n",
        "            epochs=5 ,\n",
        "            validation_data=(val_sentences, val_labels),\n",
        "            callbacks=[create_tensorboard_callback(dir_name=SAVE_DIR,\n",
        "                                                   experiment_name=\"model_1_dense\")])\n"
      ],
      "metadata": {
        "colab": {
          "base_uri": "https://localhost:8080/"
        },
        "id": "dPfdfLoMkt4R",
        "outputId": "2300f318-5062-49f5-a80c-e8c438165d0a"
      },
      "execution_count": null,
      "outputs": [
        {
          "output_type": "stream",
          "name": "stdout",
          "text": [
            "Saving TensorBoard log files to: model_logs/model_1_dense/20230531-190847\n",
            "Epoch 1/5\n",
            "215/215 [==============================] - 20s 70ms/step - loss: 0.6117 - accuracy: 0.6929 - val_loss: 0.5350 - val_accuracy: 0.7651\n",
            "Epoch 2/5\n",
            "215/215 [==============================] - 3s 13ms/step - loss: 0.4419 - accuracy: 0.8184 - val_loss: 0.4723 - val_accuracy: 0.7835\n",
            "Epoch 3/5\n",
            "215/215 [==============================] - 3s 13ms/step - loss: 0.3475 - accuracy: 0.8609 - val_loss: 0.4586 - val_accuracy: 0.7913\n",
            "Epoch 4/5\n",
            "215/215 [==============================] - 1s 6ms/step - loss: 0.2841 - accuracy: 0.8898 - val_loss: 0.4634 - val_accuracy: 0.7913\n",
            "Epoch 5/5\n",
            "215/215 [==============================] - 1s 6ms/step - loss: 0.2371 - accuracy: 0.9127 - val_loss: 0.4836 - val_accuracy: 0.7822\n"
          ]
        }
      ]
    },
    {
      "cell_type": "code",
      "source": [
        "model_1.evaluate(val_sentences , val_labels)"
      ],
      "metadata": {
        "colab": {
          "base_uri": "https://localhost:8080/"
        },
        "id": "yQ8O_MBllJha",
        "outputId": "b0190e92-6531-4be0-b5b0-22d178cc6c83"
      },
      "execution_count": null,
      "outputs": [
        {
          "output_type": "stream",
          "name": "stdout",
          "text": [
            "24/24 [==============================] - 0s 3ms/step - loss: 0.4836 - accuracy: 0.7822\n"
          ]
        },
        {
          "output_type": "execute_result",
          "data": {
            "text/plain": [
              "[0.4835765063762665, 0.7821522355079651]"
            ]
          },
          "metadata": {},
          "execution_count": 32
        }
      ]
    },
    {
      "cell_type": "code",
      "source": [
        "model1_pred_prob = model_1.predict(val_sentences)"
      ],
      "metadata": {
        "colab": {
          "base_uri": "https://localhost:8080/"
        },
        "id": "9Gts8qsvn3Pu",
        "outputId": "753f046e-2fbb-4aa7-f1c1-edad77a7ba5a"
      },
      "execution_count": null,
      "outputs": [
        {
          "output_type": "stream",
          "name": "stdout",
          "text": [
            "24/24 [==============================] - 0s 2ms/step\n"
          ]
        }
      ]
    },
    {
      "cell_type": "code",
      "source": [
        "model1_pred_prob[0]"
      ],
      "metadata": {
        "colab": {
          "base_uri": "https://localhost:8080/"
        },
        "id": "C3s_y4M3oEJz",
        "outputId": "30a5be83-64c0-4c9a-c80c-e80523d70fcd"
      },
      "execution_count": null,
      "outputs": [
        {
          "output_type": "execute_result",
          "data": {
            "text/plain": [
              "array([0.30878842], dtype=float32)"
            ]
          },
          "metadata": {},
          "execution_count": 34
        }
      ]
    },
    {
      "cell_type": "code",
      "source": [
        "model_1_preds = tf.squeeze(tf.round(model1_pred_prob))\n",
        "model_1_preds[:20]"
      ],
      "metadata": {
        "colab": {
          "base_uri": "https://localhost:8080/"
        },
        "id": "qBsKYPt5oKjR",
        "outputId": "ec1f78d1-1e56-4cb4-c0b0-c8604fa7b927"
      },
      "execution_count": null,
      "outputs": [
        {
          "output_type": "execute_result",
          "data": {
            "text/plain": [
              "<tf.Tensor: shape=(20,), dtype=float32, numpy=\n",
              "array([0., 1., 1., 0., 0., 1., 1., 1., 1., 0., 0., 1., 0., 0., 0., 0., 0.,\n",
              "       0., 0., 0.], dtype=float32)>"
            ]
          },
          "metadata": {},
          "execution_count": 35
        }
      ]
    },
    {
      "cell_type": "code",
      "source": [
        "# Calculate model1 results\n",
        "\n",
        "model_1_results = calculate_results(y_true = val_labels,\n",
        "                                    y_pred = model_1_preds)\n",
        "model_1_results"
      ],
      "metadata": {
        "colab": {
          "base_uri": "https://localhost:8080/"
        },
        "id": "oN4CmOKYolSo",
        "outputId": "b6fffe7f-0901-4688-9306-3a72d40e04ba"
      },
      "execution_count": null,
      "outputs": [
        {
          "output_type": "execute_result",
          "data": {
            "text/plain": [
              "{'accuracy': 78.21522309711287,\n",
              " 'precison': 0.7860403042839984,\n",
              " 'recall': 0.7821522309711286,\n",
              " 'F1 score': 0.779380517102918}"
            ]
          },
          "metadata": {},
          "execution_count": 36
        }
      ]
    },
    {
      "cell_type": "code",
      "source": [
        "baseline_res"
      ],
      "metadata": {
        "colab": {
          "base_uri": "https://localhost:8080/"
        },
        "id": "8ZUgRL5No0OY",
        "outputId": "e1466568-d2f2-436b-ae63-04a2214bee50"
      },
      "execution_count": null,
      "outputs": [
        {
          "output_type": "execute_result",
          "data": {
            "text/plain": [
              "{'accuracy': 79.26509186351706,\n",
              " 'precison': 0.8111390004213173,\n",
              " 'recall': 0.7926509186351706,\n",
              " 'F1 score': 0.7862189758049549}"
            ]
          },
          "metadata": {},
          "execution_count": 37
        }
      ]
    },
    {
      "cell_type": "markdown",
      "source": [
        "# Visualizing learned embeddings"
      ],
      "metadata": {
        "id": "YYb5H1D-1XKk"
      }
    },
    {
      "cell_type": "code",
      "source": [
        "words_in_vocab = text_vectorizer.get_vocabulary()\n",
        "len(words_in_vocab) , words_in_vocab[:10]"
      ],
      "metadata": {
        "id": "pmA2FVpuo39k",
        "colab": {
          "base_uri": "https://localhost:8080/"
        },
        "outputId": "56cf0158-5860-4da6-ae3f-356e9255eb1c"
      },
      "execution_count": null,
      "outputs": [
        {
          "output_type": "execute_result",
          "data": {
            "text/plain": [
              "(10000, ['', '[UNK]', 'the', 'a', 'in', 'to', 'of', 'and', 'i', 'is'])"
            ]
          },
          "metadata": {},
          "execution_count": 38
        }
      ]
    },
    {
      "cell_type": "code",
      "source": [
        "# Getting the weight matrix in embedding layer\n",
        "\n",
        "embed_weights = model_1.get_layer(\"embedding\").get_weights()\n",
        "embed_weights"
      ],
      "metadata": {
        "colab": {
          "base_uri": "https://localhost:8080/"
        },
        "id": "foeOQP5s1cdf",
        "outputId": "dc01ac01-4fd0-42b3-c20b-3586f3168c1a"
      },
      "execution_count": null,
      "outputs": [
        {
          "output_type": "execute_result",
          "data": {
            "text/plain": [
              "[array([[-0.04215103, -0.03934054, -0.029697  , ..., -0.00525402,\n",
              "          0.0155007 , -0.0430063 ],\n",
              "        [ 0.05213743, -0.016587  , -0.03198849, ...,  0.01848623,\n",
              "          0.00176709, -0.05731197],\n",
              "        [-0.01746763,  0.02868311,  0.05110298, ..., -0.01349006,\n",
              "          0.05183384, -0.03373195],\n",
              "        ...,\n",
              "        [ 0.04493565, -0.00861676, -0.04579037, ...,  0.02943773,\n",
              "         -0.01567906, -0.01077133],\n",
              "        [-0.00306269,  0.00237057,  0.018502  , ..., -0.02486364,\n",
              "          0.07076647, -0.03876638],\n",
              "        [ 0.08466585, -0.03970369,  0.07189727, ..., -0.03021527,\n",
              "          0.04809141, -0.02408769]], dtype=float32)]"
            ]
          },
          "metadata": {},
          "execution_count": 39
        }
      ]
    },
    {
      "cell_type": "code",
      "source": [
        "embed_weights[0].shape"
      ],
      "metadata": {
        "colab": {
          "base_uri": "https://localhost:8080/"
        },
        "id": "YJRlrHun2Z1b",
        "outputId": "b6e7b3de-a110-43fc-de8a-74f0e4daec88"
      },
      "execution_count": null,
      "outputs": [
        {
          "output_type": "execute_result",
          "data": {
            "text/plain": [
              "(10000, 128)"
            ]
          },
          "metadata": {},
          "execution_count": 40
        }
      ]
    },
    {
      "cell_type": "markdown",
      "source": [
        "To visualize the embedding matrix ; tensorflow has a got a tool called **Projector**"
      ],
      "metadata": {
        "id": "HG4f2olF28_b"
      }
    },
    {
      "cell_type": "code",
      "source": [
        "# Create Embedding files (from tensorflow word embedding documentation)\n",
        "\n",
        "# import io\n",
        "\n",
        "# # Create output writers\n",
        "# out_v = io.open(\"embedding_vectors.tsv\", \"w\", encoding=\"utf-8\")\n",
        "# out_m = io.open(\"embedding_metadata.tsv\", \"w\", encoding=\"utf-8\")\n",
        "\n",
        "# # Write embedding vectors and words to file\n",
        "# for num, word in enumerate(words_in_vocab):\n",
        "#   if num == 0:\n",
        "#      continue # skip 0 , padding token\n",
        "#   vec = embed_weights[num]\n",
        "#   out_m.write(word + \"\\n\") # write words to file\n",
        "#   out_v.write(\"\\t\".join([str(x) for x in vec]) + \"\\n\") # write corresponding word vector to file\n",
        "# out_v.close()\n",
        "# out_m.close()\n"
      ],
      "metadata": {
        "id": "5uwNyL2r2rnL"
      },
      "execution_count": null,
      "outputs": []
    },
    {
      "cell_type": "code",
      "source": [
        "# # Download files locally to upload to Embedding Projector\n",
        "# try:\n",
        "#   from google.colab import files\n",
        "# except ImportError:\n",
        "#   pass\n",
        "# else:\n",
        "#   files.download(\"embedding_vectors.tsv\")\n",
        "#   files.download(\"embedding_metadata.tsv\")"
      ],
      "metadata": {
        "id": "MQgBytW84DT3"
      },
      "execution_count": null,
      "outputs": []
    },
    {
      "cell_type": "markdown",
      "source": [
        "# Recurrent Neural Network(RNNs)\n",
        ">Useful for Sequence data.\\\n",
        ">Basically learns from previous representation and applies them to current representation"
      ],
      "metadata": {
        "id": "Bblt6Xlo7fhe"
      }
    },
    {
      "cell_type": "code",
      "source": [
        "# creating an LSTM model\n",
        "\n",
        "from tensorflow.keras import layers\n",
        "inputs = layers.Input(shape = (1,) , dtype=\"string\")\n",
        "x = text_vectorizer(inputs)\n",
        "x = embedding(x)\n",
        "x = layers.LSTM(units = 64 , return_sequences=True)(x)\n",
        "x = layers.LSTM(64)(x)\n",
        "x = layers.Dense(1 , activation = \"sigmoid\")(x)\n",
        "\n",
        "outputs = layers.Dense(1 , activation=\"sigmoid\")(x)\n",
        "\n",
        "model_2 = tf.keras.Model(inputs , outputs , name=\"model_2_LSTM\")"
      ],
      "metadata": {
        "id": "FI7bC4Dz5zDC"
      },
      "execution_count": null,
      "outputs": []
    },
    {
      "cell_type": "markdown",
      "source": [
        "when stacking the RNN layers ; you should return the sequences as the layers change the dim of the input shapes"
      ],
      "metadata": {
        "id": "Mb2K4BSTPWnJ"
      }
    },
    {
      "cell_type": "code",
      "source": [
        "model_2.summary()"
      ],
      "metadata": {
        "colab": {
          "base_uri": "https://localhost:8080/"
        },
        "id": "cEjcl0X5PF-1",
        "outputId": "d95b80d4-0ee6-4754-bd9b-83117f01723e"
      },
      "execution_count": null,
      "outputs": [
        {
          "output_type": "stream",
          "name": "stdout",
          "text": [
            "Model: \"model_2_LSTM\"\n",
            "_________________________________________________________________\n",
            " Layer (type)                Output Shape              Param #   \n",
            "=================================================================\n",
            " input_2 (InputLayer)        [(None, 1)]               0         \n",
            "                                                                 \n",
            " text_vectorization_1 (TextV  (None, 15)               0         \n",
            " ectorization)                                                   \n",
            "                                                                 \n",
            " embedding (Embedding)       (None, 15, 128)           1280000   \n",
            "                                                                 \n",
            " lstm (LSTM)                 (None, 15, 64)            49408     \n",
            "                                                                 \n",
            " lstm_1 (LSTM)               (None, 64)                33024     \n",
            "                                                                 \n",
            " dense_1 (Dense)             (None, 1)                 65        \n",
            "                                                                 \n",
            " dense_2 (Dense)             (None, 1)                 2         \n",
            "                                                                 \n",
            "=================================================================\n",
            "Total params: 1,362,499\n",
            "Trainable params: 1,362,499\n",
            "Non-trainable params: 0\n",
            "_________________________________________________________________\n"
          ]
        }
      ]
    },
    {
      "cell_type": "code",
      "source": [
        "model_2.compile(loss = \"binary_crossentropy\",\n",
        "                optimizer = tf.keras.optimizers.Adam(),\n",
        "                metrics=[\"accuracy\"])"
      ],
      "metadata": {
        "id": "xnc5iEjlQkQv"
      },
      "execution_count": null,
      "outputs": []
    },
    {
      "cell_type": "code",
      "source": [
        "model2_hist = model_2.fit(train_sentences,\n",
        "                          train_labels,\n",
        "                          epochs=5,\n",
        "                          validation_data = (val_sentences , val_labels),\n",
        "                          callbacks=[create_tensorboard_callback(SAVE_DIR,\n",
        "                                                                 \"model_2_LSTM\")])"
      ],
      "metadata": {
        "colab": {
          "base_uri": "https://localhost:8080/"
        },
        "id": "3JGvnaPbQw5d",
        "outputId": "0f4b7749-c1b8-4e06-9745-7a16b6f2c360"
      },
      "execution_count": null,
      "outputs": [
        {
          "output_type": "stream",
          "name": "stdout",
          "text": [
            "Saving TensorBoard log files to: model_logs/model_2_LSTM/20230531-192354\n",
            "Epoch 1/5\n",
            "215/215 [==============================] - 20s 57ms/step - loss: 0.4707 - accuracy: 0.8933 - val_loss: 0.5708 - val_accuracy: 0.7835\n",
            "Epoch 2/5\n",
            "215/215 [==============================] - 3s 16ms/step - loss: 0.4146 - accuracy: 0.9399 - val_loss: 0.5626 - val_accuracy: 0.7717\n",
            "Epoch 3/5\n",
            "215/215 [==============================] - 2s 11ms/step - loss: 0.3800 - accuracy: 0.9502 - val_loss: 0.5669 - val_accuracy: 0.7703\n",
            "Epoch 4/5\n",
            "215/215 [==============================] - 3s 13ms/step - loss: 0.3522 - accuracy: 0.9518 - val_loss: 0.5599 - val_accuracy: 0.7730\n",
            "Epoch 5/5\n",
            "215/215 [==============================] - 3s 13ms/step - loss: 0.3250 - accuracy: 0.9574 - val_loss: 0.5587 - val_accuracy: 0.7651\n"
          ]
        }
      ]
    },
    {
      "cell_type": "code",
      "source": [
        "model_2_pred_probs = model_2.predict(val_sentences)\n",
        "model_2_pred_probs[:10]"
      ],
      "metadata": {
        "colab": {
          "base_uri": "https://localhost:8080/"
        },
        "id": "og0er6G_REE4",
        "outputId": "40ce693d-0ea0-4cea-aaa5-b4e39a27bc41"
      },
      "execution_count": null,
      "outputs": [
        {
          "output_type": "stream",
          "name": "stdout",
          "text": [
            "24/24 [==============================] - 1s 5ms/step\n"
          ]
        },
        {
          "output_type": "execute_result",
          "data": {
            "text/plain": [
              "array([[0.15556273],\n",
              "       [0.6734258 ],\n",
              "       [0.67342734],\n",
              "       [0.1545793 ],\n",
              "       [0.15450045],\n",
              "       [0.6734232 ],\n",
              "       [0.67334956],\n",
              "       [0.67342716],\n",
              "       [0.6734268 ],\n",
              "       [0.15594627]], dtype=float32)"
            ]
          },
          "metadata": {},
          "execution_count": 47
        }
      ]
    },
    {
      "cell_type": "code",
      "source": [
        "model_2_pred = tf.squeeze(tf.round(model_2_pred_probs))\n",
        "model_2_pred[:10]"
      ],
      "metadata": {
        "colab": {
          "base_uri": "https://localhost:8080/"
        },
        "id": "pzD9uDJzRbSP",
        "outputId": "f9af5894-a78e-4deb-f072-4e7e7a54a800"
      },
      "execution_count": null,
      "outputs": [
        {
          "output_type": "execute_result",
          "data": {
            "text/plain": [
              "<tf.Tensor: shape=(10,), dtype=float32, numpy=array([0., 1., 1., 0., 0., 1., 1., 1., 1., 0.], dtype=float32)>"
            ]
          },
          "metadata": {},
          "execution_count": 48
        }
      ]
    },
    {
      "cell_type": "code",
      "source": [
        "# calculate res\n",
        "\n",
        "model_2_res = calculate_results(val_labels,\n",
        "                                model_2_pred)\n",
        "model_2_res"
      ],
      "metadata": {
        "colab": {
          "base_uri": "https://localhost:8080/"
        },
        "id": "VjJfJrk9Rkxb",
        "outputId": "f6c5cd2f-a92f-472d-a0a0-19ec2a646991"
      },
      "execution_count": null,
      "outputs": [
        {
          "output_type": "execute_result",
          "data": {
            "text/plain": [
              "{'accuracy': 76.50918635170603,\n",
              " 'precison': 0.7664434345240916,\n",
              " 'recall': 0.7650918635170604,\n",
              " 'F1 score': 0.7630272521222509}"
            ]
          },
          "metadata": {},
          "execution_count": 51
        }
      ]
    },
    {
      "cell_type": "code",
      "source": [
        "baseline_res"
      ],
      "metadata": {
        "colab": {
          "base_uri": "https://localhost:8080/"
        },
        "id": "po1NKZ1pRri6",
        "outputId": "ffa7ddbe-605d-4933-ac64-474a18a01c07"
      },
      "execution_count": null,
      "outputs": [
        {
          "output_type": "execute_result",
          "data": {
            "text/plain": [
              "{'accuracy': 79.26509186351706,\n",
              " 'precison': 0.8111390004213173,\n",
              " 'recall': 0.7926509186351706,\n",
              " 'F1 score': 0.7862189758049549}"
            ]
          },
          "metadata": {},
          "execution_count": 52
        }
      ]
    },
    {
      "cell_type": "markdown",
      "source": [
        "# GRU POWERED RNN\n",
        "\n",
        "Gated recurrent unit; very effective RNN componenet; very similar but less parameters"
      ],
      "metadata": {
        "id": "gHVCeiYBSjn6"
      }
    },
    {
      "cell_type": "code",
      "source": [
        "from tensorflow.keras import layers\n",
        "\n",
        "inputs = layers.Input(shape=(1,) , dtype=\"string\")\n",
        "x = text_vectorizer(inputs)\n",
        "x = embedding(x)\n",
        "x = layers.GRU(64)(x)\n",
        "# for stacking LSTM layers; return sequences = true\n",
        "\n",
        "# x = layers.LSTM(64,return_sequences = True)(x)\n",
        "# x = layers.GRU(64)(x)\n",
        "\n",
        "# x = layers.Dense(64 , activation=\"relu\")(x)\n",
        "# x = layers.GlobalAveragePooling1D()(x)  # this can reduce the shape to 1 token\n",
        "\n",
        "outputs = layers.Dense(1 , activation=\"sigmoid\")(x)\n",
        "model_3 = tf.keras.Model(inputs , outputs , name=\"Model_3\")\n"
      ],
      "metadata": {
        "id": "x6UNE5AbRzfM"
      },
      "execution_count": null,
      "outputs": []
    },
    {
      "cell_type": "code",
      "source": [
        "model_3.summary()"
      ],
      "metadata": {
        "colab": {
          "base_uri": "https://localhost:8080/"
        },
        "id": "MVaK8C7JUC7R",
        "outputId": "9eac2bd4-dcb5-4e09-83f8-1b6cb2ebde18"
      },
      "execution_count": null,
      "outputs": [
        {
          "output_type": "stream",
          "name": "stdout",
          "text": [
            "Model: \"Model_3\"\n",
            "_________________________________________________________________\n",
            " Layer (type)                Output Shape              Param #   \n",
            "=================================================================\n",
            " input_9 (InputLayer)        [(None, 1)]               0         \n",
            "                                                                 \n",
            " text_vectorization_1 (TextV  (None, 15)               0         \n",
            " ectorization)                                                   \n",
            "                                                                 \n",
            " embedding (Embedding)       (None, 15, 128)           1280000   \n",
            "                                                                 \n",
            " gru_7 (GRU)                 (None, 64)                37248     \n",
            "                                                                 \n",
            " dense_8 (Dense)             (None, 1)                 65        \n",
            "                                                                 \n",
            "=================================================================\n",
            "Total params: 1,317,313\n",
            "Trainable params: 1,317,313\n",
            "Non-trainable params: 0\n",
            "_________________________________________________________________\n"
          ]
        }
      ]
    },
    {
      "cell_type": "code",
      "source": [
        "model_3.compile(loss = \"binary_crossentropy\",\n",
        "                optimizer = tf.keras.optimizers.Adam(),\n",
        "                metrics=[\"accuracy\"])"
      ],
      "metadata": {
        "id": "z2Z3MXCkUl_R"
      },
      "execution_count": null,
      "outputs": []
    },
    {
      "cell_type": "code",
      "source": [
        "model3_hist = model_3.fit(train_sentences,\n",
        "                          train_labels,\n",
        "                          epochs=5,\n",
        "                          validation_data = (val_sentences , val_labels),\n",
        "                          callbacks=[create_tensorboard_callback(SAVE_DIR,\n",
        "                                                                 \"model_3_GRU\")])"
      ],
      "metadata": {
        "colab": {
          "base_uri": "https://localhost:8080/"
        },
        "id": "4dCTLcBIVg7U",
        "outputId": "f005afdc-9f03-46cc-d4e2-a261e3a1cb47"
      },
      "execution_count": null,
      "outputs": [
        {
          "output_type": "stream",
          "name": "stdout",
          "text": [
            "Saving TensorBoard log files to: model_logs/model_3_GRU/20230531-194451\n",
            "Epoch 1/5\n",
            "215/215 [==============================] - 14s 52ms/step - loss: 0.2059 - accuracy: 0.9267 - val_loss: 0.6065 - val_accuracy: 0.7795\n",
            "Epoch 2/5\n",
            "215/215 [==============================] - 4s 16ms/step - loss: 0.1302 - accuracy: 0.9610 - val_loss: 0.7162 - val_accuracy: 0.7861\n",
            "Epoch 3/5\n",
            "215/215 [==============================] - 2s 11ms/step - loss: 0.1118 - accuracy: 0.9651 - val_loss: 0.6738 - val_accuracy: 0.7808\n",
            "Epoch 4/5\n",
            "215/215 [==============================] - 2s 9ms/step - loss: 0.0981 - accuracy: 0.9675 - val_loss: 0.7282 - val_accuracy: 0.7808\n",
            "Epoch 5/5\n",
            "215/215 [==============================] - 2s 8ms/step - loss: 0.0883 - accuracy: 0.9685 - val_loss: 0.7219 - val_accuracy: 0.7782\n"
          ]
        }
      ]
    },
    {
      "cell_type": "code",
      "source": [
        "model_3_pred_probs = model_3.predict(val_sentences)"
      ],
      "metadata": {
        "colab": {
          "base_uri": "https://localhost:8080/"
        },
        "id": "-6Dopt5tVqSk",
        "outputId": "30121267-74c4-4b47-cd77-437a0a197ebe"
      },
      "execution_count": null,
      "outputs": [
        {
          "output_type": "stream",
          "name": "stdout",
          "text": [
            "24/24 [==============================] - 1s 4ms/step\n"
          ]
        }
      ]
    },
    {
      "cell_type": "code",
      "source": [
        "model_3_pred = tf.squeeze(tf.round(model_3_pred_probs))\n",
        "model_3_pred[:10]"
      ],
      "metadata": {
        "colab": {
          "base_uri": "https://localhost:8080/"
        },
        "id": "PotWFnZcWRxh",
        "outputId": "66dbff30-ee13-4164-e2ed-f58709dae270"
      },
      "execution_count": null,
      "outputs": [
        {
          "output_type": "execute_result",
          "data": {
            "text/plain": [
              "<tf.Tensor: shape=(10,), dtype=float32, numpy=array([0., 1., 1., 0., 0., 1., 1., 1., 1., 0.], dtype=float32)>"
            ]
          },
          "metadata": {},
          "execution_count": 71
        }
      ]
    },
    {
      "cell_type": "code",
      "source": [
        "model_3_res = calculate_results(val_labels,\n",
        "                                model_3_pred)\n",
        "model_3_res"
      ],
      "metadata": {
        "colab": {
          "base_uri": "https://localhost:8080/"
        },
        "id": "h4iPtelnWWzf",
        "outputId": "0b86256d-2d3c-4fc7-b3e5-f97cafd5197b"
      },
      "execution_count": null,
      "outputs": [
        {
          "output_type": "execute_result",
          "data": {
            "text/plain": [
              "{'accuracy': 77.82152230971128,\n",
              " 'precison': 0.7796479981380524,\n",
              " 'recall': 0.7782152230971129,\n",
              " 'F1 score': 0.7763875633348853}"
            ]
          },
          "metadata": {},
          "execution_count": 73
        }
      ]
    },
    {
      "cell_type": "markdown",
      "source": [
        "# Bidirectional RNN\n",
        "Basically consists of two RNNs that processes left to right and other right to left\\\n",
        "Helps the model to learn from both forward and backward hence giving accurate predictions"
      ],
      "metadata": {
        "id": "FDiKPZxmWtRS"
      }
    },
    {
      "cell_type": "code",
      "source": [
        "from tensorflow.keras import layers\n",
        "\n",
        "inputs = layers.Input(shape = (1,) , dtype=\"string\")\n",
        "x = text_vectorizer(inputs)\n",
        "x = embedding(x)\n",
        "\n",
        "# Bidirectional() is a wrapper class ; any RNN layer can be inserted\n",
        "\n",
        "x = layers.Bidirectional(layers.LSTM(64))(x)\n",
        "# x = layers.Bidirectional(layers.GRU(64))(x)\n",
        "\n",
        "outputs = layers.Dense(1 , activation=\"sigmoid\")(x)\n",
        "model_4 = tf.keras.Model(inputs , outputs , name=\"Model_4_Bi\")"
      ],
      "metadata": {
        "id": "FWfvaEgwWv5B"
      },
      "execution_count": null,
      "outputs": []
    },
    {
      "cell_type": "code",
      "source": [
        "model_4.summary()"
      ],
      "metadata": {
        "colab": {
          "base_uri": "https://localhost:8080/"
        },
        "id": "uQlY880F995f",
        "outputId": "ba8a6bc2-869a-4403-e1db-f228a01c21c2"
      },
      "execution_count": null,
      "outputs": [
        {
          "output_type": "stream",
          "name": "stdout",
          "text": [
            "Model: \"Model_4_Bi\"\n",
            "_________________________________________________________________\n",
            " Layer (type)                Output Shape              Param #   \n",
            "=================================================================\n",
            " input_3 (InputLayer)        [(None, 1)]               0         \n",
            "                                                                 \n",
            " text_vectorization_1 (TextV  (None, 15)               0         \n",
            " ectorization)                                                   \n",
            "                                                                 \n",
            " embedding (Embedding)       (None, 15, 128)           1280000   \n",
            "                                                                 \n",
            " bidirectional_3 (Bidirectio  (None, 128)              98816     \n",
            " nal)                                                            \n",
            "                                                                 \n",
            " dense_1 (Dense)             (None, 1)                 129       \n",
            "                                                                 \n",
            "=================================================================\n",
            "Total params: 1,378,945\n",
            "Trainable params: 1,378,945\n",
            "Non-trainable params: 0\n",
            "_________________________________________________________________\n"
          ]
        }
      ]
    },
    {
      "cell_type": "code",
      "source": [
        "model_4.compile(loss = \"binary_crossentropy\",\n",
        "                optimizer = tf.keras.optimizers.Adam(),\n",
        "                metrics=[\"accuracy\"])"
      ],
      "metadata": {
        "id": "AzVhuV7q-E3V"
      },
      "execution_count": null,
      "outputs": []
    },
    {
      "cell_type": "code",
      "source": [
        "model4_hist =  model_4.fit(train_sentences,\n",
        "                          train_labels,\n",
        "                          epochs=5,\n",
        "                          validation_data = (val_sentences , val_labels),\n",
        "                          callbacks=[create_tensorboard_callback(SAVE_DIR,\n",
        "                                                                 \"model_4_Bi\")])"
      ],
      "metadata": {
        "colab": {
          "base_uri": "https://localhost:8080/"
        },
        "id": "oXwF5dgT-x_J",
        "outputId": "4a442d4c-a165-49f7-bc27-24899ddefcbd"
      },
      "execution_count": null,
      "outputs": [
        {
          "output_type": "stream",
          "name": "stdout",
          "text": [
            "Saving TensorBoard log files to: model_logs/model_4_Bi/20230602-072155\n",
            "Epoch 1/5\n",
            "215/215 [==============================] - 25s 73ms/step - loss: 0.5061 - accuracy: 0.7514 - val_loss: 0.4584 - val_accuracy: 0.7927\n",
            "Epoch 2/5\n",
            "215/215 [==============================] - 4s 21ms/step - loss: 0.3092 - accuracy: 0.8748 - val_loss: 0.4691 - val_accuracy: 0.7861\n",
            "Epoch 3/5\n",
            "215/215 [==============================] - 3s 13ms/step - loss: 0.2060 - accuracy: 0.9254 - val_loss: 0.5574 - val_accuracy: 0.7703\n",
            "Epoch 4/5\n",
            "215/215 [==============================] - 3s 13ms/step - loss: 0.1376 - accuracy: 0.9507 - val_loss: 0.7069 - val_accuracy: 0.7703\n",
            "Epoch 5/5\n",
            "215/215 [==============================] - 4s 17ms/step - loss: 0.0938 - accuracy: 0.9660 - val_loss: 0.8971 - val_accuracy: 0.7598\n"
          ]
        }
      ]
    },
    {
      "cell_type": "code",
      "source": [
        "model_4_pred_probs = model_4.predict(val_sentences)\n"
      ],
      "metadata": {
        "colab": {
          "base_uri": "https://localhost:8080/"
        },
        "id": "Wc1ZIiy0-_Uo",
        "outputId": "71e8e49e-e873-413a-d50b-f3ff99c5a76f"
      },
      "execution_count": null,
      "outputs": [
        {
          "output_type": "stream",
          "name": "stdout",
          "text": [
            "24/24 [==============================] - 1s 3ms/step\n"
          ]
        }
      ]
    },
    {
      "cell_type": "code",
      "source": [
        "model_4_preds = tf.squeeze(tf.round(model_4_pred_probs))"
      ],
      "metadata": {
        "id": "Y_BDklHp_TWZ"
      },
      "execution_count": null,
      "outputs": []
    },
    {
      "cell_type": "code",
      "source": [
        "model_4_res = calculate_results(val_labels,\n",
        "                                model_4_preds)\n",
        "model_4_res"
      ],
      "metadata": {
        "colab": {
          "base_uri": "https://localhost:8080/"
        },
        "id": "b_ROiGJD_YvW",
        "outputId": "0fc77325-d606-4316-dc12-60b98ea7f00a"
      },
      "execution_count": null,
      "outputs": [
        {
          "output_type": "execute_result",
          "data": {
            "text/plain": [
              "{'accuracy': 75.98425196850394,\n",
              " 'precison': 0.7633887291688025,\n",
              " 'recall': 0.7598425196850394,\n",
              " 'F1 score': 0.7565467702363975}"
            ]
          },
          "metadata": {},
          "execution_count": 35
        }
      ]
    },
    {
      "cell_type": "code",
      "source": [
        "baseline_res"
      ],
      "metadata": {
        "colab": {
          "base_uri": "https://localhost:8080/"
        },
        "id": "ULUxx_D-_f7n",
        "outputId": "051de345-6a06-458e-9934-5c43cfa14089"
      },
      "execution_count": null,
      "outputs": [
        {
          "output_type": "execute_result",
          "data": {
            "text/plain": [
              "{'accuracy': 79.26509186351706,\n",
              " 'precison': 0.8111390004213173,\n",
              " 'recall': 0.7926509186351706,\n",
              " 'F1 score': 0.7862189758049549}"
            ]
          },
          "metadata": {},
          "execution_count": 36
        }
      ]
    },
    {
      "cell_type": "markdown",
      "source": [
        "# 1D Convulational NN\n",
        "Basically for text and other types of sequence data"
      ],
      "metadata": {
        "id": "4n5TUoEpAFt_"
      }
    },
    {
      "cell_type": "code",
      "source": [
        "# Basic embedding test for conv1d layer\n",
        "\n",
        "from tensorflow.keras import layers\n",
        "\n",
        "embedding_test = embedding(text_vectorizer([\"this is a test sentence\"]))\n",
        "# this turns target into embedding\n",
        "\n",
        "conv_1d = layers.Conv1D(filters=64,\n",
        "                       kernel_size=5,   # like ngram=5 ie looks at 5 words at a time\n",
        "                       activation=\"relu\", # strides = 1 by deafault\n",
        "                       padding=\"same\") # by default valid ; changes the shape if valid(padding)\n",
        "                        # same padding basically covers all the words\n",
        "conv_1d_output = conv_1d(embedding_test)  # pass the embedding through the layer\n",
        "max_pool = layers.GlobalMaxPool1D()\n",
        "# instead of 32 per token, it pools to 32 per sequence ie whole sentence\n",
        "max_pool_output = max_pool(conv_1d_output)  # equivalent to getting the most important feature\n",
        "\n",
        "embedding_test.shape , conv_1d_output.shape , max_pool_output.shape\n"
      ],
      "metadata": {
        "colab": {
          "base_uri": "https://localhost:8080/"
        },
        "id": "J84TvESS_jnb",
        "outputId": "5a4839cc-cb96-4789-fd1d-715e2d434c2b"
      },
      "execution_count": null,
      "outputs": [
        {
          "output_type": "execute_result",
          "data": {
            "text/plain": [
              "(TensorShape([1, 15, 128]), TensorShape([1, 15, 64]), TensorShape([1, 64]))"
            ]
          },
          "metadata": {},
          "execution_count": 42
        }
      ]
    },
    {
      "cell_type": "code",
      "source": [
        "embedding_test"
      ],
      "metadata": {
        "colab": {
          "base_uri": "https://localhost:8080/"
        },
        "id": "x1PecmmMC2NG",
        "outputId": "7ada6431-273e-419b-d9ba-9ae30966681b"
      },
      "execution_count": null,
      "outputs": [
        {
          "output_type": "execute_result",
          "data": {
            "text/plain": [
              "<tf.Tensor: shape=(1, 15, 128), dtype=float32, numpy=\n",
              "array([[[ 0.00156729, -0.0208911 , -0.00221805, ..., -0.00899066,\n",
              "          0.04576629, -0.0080641 ],\n",
              "        [ 0.04415649, -0.01869665, -0.04056321, ..., -0.00760169,\n",
              "          0.03993336, -0.02327592],\n",
              "        [-0.04086774, -0.0394332 , -0.0235105 , ...,  0.0086579 ,\n",
              "          0.00749658,  0.04509317],\n",
              "        ...,\n",
              "        [-0.03037559, -0.02199673,  0.00706886, ..., -0.01409803,\n",
              "         -0.00185908,  0.00864911],\n",
              "        [-0.03037559, -0.02199673,  0.00706886, ..., -0.01409803,\n",
              "         -0.00185908,  0.00864911],\n",
              "        [-0.03037559, -0.02199673,  0.00706886, ..., -0.01409803,\n",
              "         -0.00185908,  0.00864911]]], dtype=float32)>"
            ]
          },
          "metadata": {},
          "execution_count": 43
        }
      ]
    },
    {
      "cell_type": "code",
      "source": [
        "conv_1d_output"
      ],
      "metadata": {
        "colab": {
          "base_uri": "https://localhost:8080/"
        },
        "id": "3D2wQcFuEayC",
        "outputId": "ef567049-cb13-4c38-bac4-ac12c6dd3186"
      },
      "execution_count": null,
      "outputs": [
        {
          "output_type": "execute_result",
          "data": {
            "text/plain": [
              "<tf.Tensor: shape=(1, 15, 64), dtype=float32, numpy=\n",
              "array([[[0.00000000e+00, 4.59350273e-02, 0.00000000e+00, 1.34038469e-02,\n",
              "         0.00000000e+00, 0.00000000e+00, 0.00000000e+00, 2.30633132e-02,\n",
              "         0.00000000e+00, 4.31243628e-02, 7.53372209e-03, 3.77796069e-02,\n",
              "         0.00000000e+00, 3.79593335e-02, 0.00000000e+00, 4.67623724e-03,\n",
              "         0.00000000e+00, 1.32408496e-02, 1.14246532e-02, 0.00000000e+00,\n",
              "         8.84696282e-03, 2.69203428e-02, 0.00000000e+00, 0.00000000e+00,\n",
              "         0.00000000e+00, 0.00000000e+00, 0.00000000e+00, 4.89266310e-03,\n",
              "         1.40145710e-02, 1.76322646e-02, 0.00000000e+00, 0.00000000e+00,\n",
              "         3.49655445e-03, 0.00000000e+00, 0.00000000e+00, 0.00000000e+00,\n",
              "         0.00000000e+00, 1.04831578e-02, 2.74942107e-02, 0.00000000e+00,\n",
              "         0.00000000e+00, 0.00000000e+00, 4.41999435e-02, 0.00000000e+00,\n",
              "         1.46374833e-02, 1.77132320e-02, 4.08485644e-02, 0.00000000e+00,\n",
              "         0.00000000e+00, 6.09189563e-04, 0.00000000e+00, 0.00000000e+00,\n",
              "         0.00000000e+00, 0.00000000e+00, 4.61341813e-03, 0.00000000e+00,\n",
              "         1.35699902e-02, 2.80106943e-02, 0.00000000e+00, 8.11669324e-03,\n",
              "         5.09745674e-03, 5.04428968e-02, 0.00000000e+00, 0.00000000e+00],\n",
              "        [0.00000000e+00, 4.11495275e-04, 1.09685287e-02, 0.00000000e+00,\n",
              "         0.00000000e+00, 0.00000000e+00, 0.00000000e+00, 0.00000000e+00,\n",
              "         9.65309329e-03, 0.00000000e+00, 0.00000000e+00, 2.18083784e-02,\n",
              "         0.00000000e+00, 1.78312752e-02, 4.61848229e-02, 2.53230464e-02,\n",
              "         4.19606380e-02, 0.00000000e+00, 0.00000000e+00, 0.00000000e+00,\n",
              "         5.88709302e-02, 1.08629195e-02, 2.57631522e-02, 0.00000000e+00,\n",
              "         0.00000000e+00, 0.00000000e+00, 0.00000000e+00, 1.41729815e-02,\n",
              "         0.00000000e+00, 1.19916117e-02, 3.20935040e-03, 1.60779748e-02,\n",
              "         0.00000000e+00, 9.33749788e-03, 0.00000000e+00, 0.00000000e+00,\n",
              "         3.18330410e-03, 1.97030306e-02, 0.00000000e+00, 3.64832021e-02,\n",
              "         0.00000000e+00, 1.46263065e-02, 0.00000000e+00, 2.81780623e-02,\n",
              "         0.00000000e+00, 3.09178699e-03, 1.20214056e-02, 1.77764706e-02,\n",
              "         1.92714464e-02, 2.95505077e-02, 4.60058171e-03, 1.08694448e-03,\n",
              "         0.00000000e+00, 2.48065498e-02, 9.33016199e-05, 2.67560296e-02,\n",
              "         0.00000000e+00, 0.00000000e+00, 1.06178094e-02, 5.74825741e-02,\n",
              "         0.00000000e+00, 2.28990102e-03, 0.00000000e+00, 0.00000000e+00],\n",
              "        [1.14757521e-02, 1.41710229e-02, 0.00000000e+00, 7.33233662e-03,\n",
              "         0.00000000e+00, 6.89969584e-02, 0.00000000e+00, 1.25617925e-02,\n",
              "         0.00000000e+00, 1.45259630e-02, 0.00000000e+00, 4.45482321e-03,\n",
              "         5.89312334e-03, 1.86339151e-02, 2.13872478e-03, 3.13989632e-02,\n",
              "         6.56475797e-02, 0.00000000e+00, 0.00000000e+00, 0.00000000e+00,\n",
              "         0.00000000e+00, 3.33729051e-02, 9.38625913e-03, 2.81272791e-02,\n",
              "         4.97554392e-02, 0.00000000e+00, 0.00000000e+00, 2.95698680e-02,\n",
              "         0.00000000e+00, 3.01009533e-03, 0.00000000e+00, 1.73614435e-02,\n",
              "         0.00000000e+00, 0.00000000e+00, 1.62806511e-02, 7.72855580e-02,\n",
              "         2.45865621e-02, 0.00000000e+00, 5.60257398e-02, 0.00000000e+00,\n",
              "         2.41660569e-02, 0.00000000e+00, 0.00000000e+00, 9.13949683e-03,\n",
              "         3.92553434e-02, 3.60650644e-02, 2.83864960e-02, 5.90105914e-02,\n",
              "         0.00000000e+00, 4.26427834e-02, 4.47058259e-03, 1.99900940e-03,\n",
              "         2.13430431e-02, 0.00000000e+00, 4.94883745e-04, 1.70322694e-02,\n",
              "         0.00000000e+00, 3.82518806e-02, 0.00000000e+00, 6.43246770e-02,\n",
              "         0.00000000e+00, 6.48181736e-02, 2.66240109e-02, 5.06338477e-02],\n",
              "        [3.42068784e-02, 1.20596271e-02, 0.00000000e+00, 4.66316100e-03,\n",
              "         0.00000000e+00, 0.00000000e+00, 4.99081612e-02, 3.33347321e-02,\n",
              "         0.00000000e+00, 0.00000000e+00, 1.16181308e-02, 2.07385235e-02,\n",
              "         0.00000000e+00, 0.00000000e+00, 0.00000000e+00, 9.13845550e-04,\n",
              "         1.68163050e-02, 4.81810831e-02, 0.00000000e+00, 0.00000000e+00,\n",
              "         2.97630951e-02, 1.44015467e-02, 0.00000000e+00, 0.00000000e+00,\n",
              "         0.00000000e+00, 3.49817723e-02, 0.00000000e+00, 1.37757529e-02,\n",
              "         1.26193808e-02, 3.67036015e-02, 5.19521907e-03, 0.00000000e+00,\n",
              "         6.85861036e-02, 1.55090177e-02, 0.00000000e+00, 0.00000000e+00,\n",
              "         0.00000000e+00, 0.00000000e+00, 0.00000000e+00, 0.00000000e+00,\n",
              "         0.00000000e+00, 0.00000000e+00, 3.17447782e-02, 2.01947819e-02,\n",
              "         4.45748456e-02, 0.00000000e+00, 0.00000000e+00, 3.22376750e-03,\n",
              "         3.26923728e-02, 0.00000000e+00, 0.00000000e+00, 0.00000000e+00,\n",
              "         0.00000000e+00, 2.41960008e-02, 0.00000000e+00, 0.00000000e+00,\n",
              "         6.89582387e-03, 0.00000000e+00, 0.00000000e+00, 0.00000000e+00,\n",
              "         0.00000000e+00, 0.00000000e+00, 1.96795538e-03, 1.10655101e-02],\n",
              "        [0.00000000e+00, 0.00000000e+00, 3.87596115e-02, 4.70163450e-02,\n",
              "         2.75876150e-02, 9.04005300e-03, 0.00000000e+00, 0.00000000e+00,\n",
              "         0.00000000e+00, 4.92960587e-02, 0.00000000e+00, 9.19064134e-03,\n",
              "         0.00000000e+00, 0.00000000e+00, 4.34034020e-02, 5.05522778e-03,\n",
              "         6.13711216e-03, 2.95831971e-02, 0.00000000e+00, 5.50254546e-02,\n",
              "         0.00000000e+00, 2.84612756e-02, 1.10722436e-02, 2.88151344e-03,\n",
              "         2.55820118e-02, 3.44451442e-02, 3.91828595e-03, 0.00000000e+00,\n",
              "         2.40442939e-02, 2.05967091e-02, 5.70796989e-02, 5.21743894e-02,\n",
              "         0.00000000e+00, 8.42729509e-02, 0.00000000e+00, 3.85583453e-02,\n",
              "         0.00000000e+00, 4.57019135e-02, 0.00000000e+00, 0.00000000e+00,\n",
              "         0.00000000e+00, 2.96233185e-02, 0.00000000e+00, 0.00000000e+00,\n",
              "         3.21115106e-02, 0.00000000e+00, 3.73766641e-03, 5.51351171e-04,\n",
              "         2.92218737e-02, 4.20573987e-02, 0.00000000e+00, 4.34389077e-02,\n",
              "         0.00000000e+00, 3.98303494e-02, 1.43772094e-02, 0.00000000e+00,\n",
              "         0.00000000e+00, 0.00000000e+00, 0.00000000e+00, 0.00000000e+00,\n",
              "         0.00000000e+00, 1.31885922e-02, 0.00000000e+00, 0.00000000e+00],\n",
              "        [0.00000000e+00, 2.06776671e-02, 0.00000000e+00, 1.31606990e-02,\n",
              "         0.00000000e+00, 0.00000000e+00, 2.01329757e-02, 7.71594187e-03,\n",
              "         0.00000000e+00, 3.47644985e-02, 3.43254360e-04, 7.81342573e-03,\n",
              "         7.95800798e-03, 0.00000000e+00, 1.20879514e-02, 1.71873923e-02,\n",
              "         2.02195086e-02, 5.62396869e-02, 0.00000000e+00, 1.27353352e-02,\n",
              "         0.00000000e+00, 0.00000000e+00, 2.50846818e-02, 0.00000000e+00,\n",
              "         4.97133434e-02, 0.00000000e+00, 0.00000000e+00, 5.22080548e-02,\n",
              "         4.86436822e-02, 3.68809439e-02, 0.00000000e+00, 1.71116479e-02,\n",
              "         0.00000000e+00, 3.06505393e-02, 0.00000000e+00, 0.00000000e+00,\n",
              "         0.00000000e+00, 0.00000000e+00, 1.14074703e-02, 0.00000000e+00,\n",
              "         1.96861103e-02, 0.00000000e+00, 0.00000000e+00, 0.00000000e+00,\n",
              "         0.00000000e+00, 4.60687429e-02, 0.00000000e+00, 0.00000000e+00,\n",
              "         3.55138034e-02, 1.52979670e-02, 0.00000000e+00, 9.28941295e-02,\n",
              "         0.00000000e+00, 1.99222863e-02, 0.00000000e+00, 0.00000000e+00,\n",
              "         0.00000000e+00, 0.00000000e+00, 0.00000000e+00, 0.00000000e+00,\n",
              "         3.68387962e-04, 0.00000000e+00, 0.00000000e+00, 0.00000000e+00],\n",
              "        [0.00000000e+00, 0.00000000e+00, 0.00000000e+00, 3.00585479e-02,\n",
              "         0.00000000e+00, 5.63370809e-03, 0.00000000e+00, 0.00000000e+00,\n",
              "         0.00000000e+00, 0.00000000e+00, 3.59181277e-02, 4.18425612e-02,\n",
              "         0.00000000e+00, 3.47069791e-03, 0.00000000e+00, 3.57161388e-02,\n",
              "         2.41052662e-03, 1.68969128e-02, 6.18564384e-03, 1.01278871e-02,\n",
              "         5.11244126e-03, 1.64936960e-03, 2.44737081e-02, 3.88068426e-03,\n",
              "         0.00000000e+00, 2.10053436e-02, 0.00000000e+00, 6.82678670e-02,\n",
              "         1.63612515e-02, 5.30408993e-02, 0.00000000e+00, 0.00000000e+00,\n",
              "         0.00000000e+00, 0.00000000e+00, 0.00000000e+00, 2.05838136e-04,\n",
              "         2.05403026e-02, 4.72955480e-02, 0.00000000e+00, 1.98405958e-03,\n",
              "         1.52194919e-02, 3.26339528e-02, 3.10146417e-02, 0.00000000e+00,\n",
              "         6.90868869e-03, 0.00000000e+00, 0.00000000e+00, 1.05237877e-02,\n",
              "         7.52245784e-02, 4.79654828e-03, 2.43725814e-02, 5.16221523e-02,\n",
              "         8.21247883e-03, 8.75302404e-03, 0.00000000e+00, 0.00000000e+00,\n",
              "         0.00000000e+00, 0.00000000e+00, 8.23649019e-03, 0.00000000e+00,\n",
              "         0.00000000e+00, 0.00000000e+00, 2.14477628e-03, 0.00000000e+00],\n",
              "        [0.00000000e+00, 0.00000000e+00, 1.44562190e-02, 3.67169268e-02,\n",
              "         0.00000000e+00, 0.00000000e+00, 0.00000000e+00, 0.00000000e+00,\n",
              "         0.00000000e+00, 7.00255856e-03, 5.97146107e-03, 3.27318795e-02,\n",
              "         0.00000000e+00, 2.35069003e-02, 0.00000000e+00, 0.00000000e+00,\n",
              "         1.29074166e-02, 0.00000000e+00, 2.33583152e-03, 2.20597181e-02,\n",
              "         1.58118177e-02, 0.00000000e+00, 1.15182931e-02, 5.12927072e-03,\n",
              "         0.00000000e+00, 3.81623171e-02, 0.00000000e+00, 6.08523972e-02,\n",
              "         1.07997479e-02, 5.07265665e-02, 0.00000000e+00, 2.07318552e-02,\n",
              "         0.00000000e+00, 0.00000000e+00, 0.00000000e+00, 0.00000000e+00,\n",
              "         0.00000000e+00, 3.09411101e-02, 2.99752504e-02, 6.96788961e-03,\n",
              "         0.00000000e+00, 3.59054320e-02, 1.72053333e-02, 0.00000000e+00,\n",
              "         1.28141521e-02, 0.00000000e+00, 1.14842523e-02, 2.47723088e-02,\n",
              "         4.16495055e-02, 9.65728704e-03, 2.23268569e-02, 8.48854259e-02,\n",
              "         9.68754664e-03, 1.34612266e-02, 0.00000000e+00, 0.00000000e+00,\n",
              "         0.00000000e+00, 3.24847497e-04, 1.40739903e-02, 0.00000000e+00,\n",
              "         0.00000000e+00, 4.85662790e-03, 0.00000000e+00, 0.00000000e+00],\n",
              "        [0.00000000e+00, 0.00000000e+00, 1.44562190e-02, 3.67169268e-02,\n",
              "         0.00000000e+00, 0.00000000e+00, 0.00000000e+00, 0.00000000e+00,\n",
              "         0.00000000e+00, 7.00255856e-03, 5.97146107e-03, 3.27318795e-02,\n",
              "         0.00000000e+00, 2.35069003e-02, 0.00000000e+00, 0.00000000e+00,\n",
              "         1.29074166e-02, 0.00000000e+00, 2.33583152e-03, 2.20597181e-02,\n",
              "         1.58118177e-02, 0.00000000e+00, 1.15182931e-02, 5.12927072e-03,\n",
              "         0.00000000e+00, 3.81623171e-02, 0.00000000e+00, 6.08523972e-02,\n",
              "         1.07997479e-02, 5.07265665e-02, 0.00000000e+00, 2.07318552e-02,\n",
              "         0.00000000e+00, 0.00000000e+00, 0.00000000e+00, 0.00000000e+00,\n",
              "         0.00000000e+00, 3.09411101e-02, 2.99752504e-02, 6.96788961e-03,\n",
              "         0.00000000e+00, 3.59054320e-02, 1.72053333e-02, 0.00000000e+00,\n",
              "         1.28141521e-02, 0.00000000e+00, 1.14842523e-02, 2.47723088e-02,\n",
              "         4.16495055e-02, 9.65728704e-03, 2.23268569e-02, 8.48854259e-02,\n",
              "         9.68754664e-03, 1.34612266e-02, 0.00000000e+00, 0.00000000e+00,\n",
              "         0.00000000e+00, 3.24847497e-04, 1.40739903e-02, 0.00000000e+00,\n",
              "         0.00000000e+00, 4.85662790e-03, 0.00000000e+00, 0.00000000e+00],\n",
              "        [0.00000000e+00, 0.00000000e+00, 1.44562190e-02, 3.67169268e-02,\n",
              "         0.00000000e+00, 0.00000000e+00, 0.00000000e+00, 0.00000000e+00,\n",
              "         0.00000000e+00, 7.00255856e-03, 5.97146107e-03, 3.27318795e-02,\n",
              "         0.00000000e+00, 2.35069003e-02, 0.00000000e+00, 0.00000000e+00,\n",
              "         1.29074166e-02, 0.00000000e+00, 2.33583152e-03, 2.20597181e-02,\n",
              "         1.58118177e-02, 0.00000000e+00, 1.15182931e-02, 5.12927072e-03,\n",
              "         0.00000000e+00, 3.81623171e-02, 0.00000000e+00, 6.08523972e-02,\n",
              "         1.07997479e-02, 5.07265665e-02, 0.00000000e+00, 2.07318552e-02,\n",
              "         0.00000000e+00, 0.00000000e+00, 0.00000000e+00, 0.00000000e+00,\n",
              "         0.00000000e+00, 3.09411101e-02, 2.99752504e-02, 6.96788961e-03,\n",
              "         0.00000000e+00, 3.59054320e-02, 1.72053333e-02, 0.00000000e+00,\n",
              "         1.28141521e-02, 0.00000000e+00, 1.14842523e-02, 2.47723088e-02,\n",
              "         4.16495055e-02, 9.65728704e-03, 2.23268569e-02, 8.48854259e-02,\n",
              "         9.68754664e-03, 1.34612266e-02, 0.00000000e+00, 0.00000000e+00,\n",
              "         0.00000000e+00, 3.24847497e-04, 1.40739903e-02, 0.00000000e+00,\n",
              "         0.00000000e+00, 4.85662790e-03, 0.00000000e+00, 0.00000000e+00],\n",
              "        [0.00000000e+00, 0.00000000e+00, 1.44562190e-02, 3.67169268e-02,\n",
              "         0.00000000e+00, 0.00000000e+00, 0.00000000e+00, 0.00000000e+00,\n",
              "         0.00000000e+00, 7.00255856e-03, 5.97146107e-03, 3.27318795e-02,\n",
              "         0.00000000e+00, 2.35069003e-02, 0.00000000e+00, 0.00000000e+00,\n",
              "         1.29074166e-02, 0.00000000e+00, 2.33583152e-03, 2.20597181e-02,\n",
              "         1.58118177e-02, 0.00000000e+00, 1.15182931e-02, 5.12927072e-03,\n",
              "         0.00000000e+00, 3.81623171e-02, 0.00000000e+00, 6.08523972e-02,\n",
              "         1.07997479e-02, 5.07265665e-02, 0.00000000e+00, 2.07318552e-02,\n",
              "         0.00000000e+00, 0.00000000e+00, 0.00000000e+00, 0.00000000e+00,\n",
              "         0.00000000e+00, 3.09411101e-02, 2.99752504e-02, 6.96788961e-03,\n",
              "         0.00000000e+00, 3.59054320e-02, 1.72053333e-02, 0.00000000e+00,\n",
              "         1.28141521e-02, 0.00000000e+00, 1.14842523e-02, 2.47723088e-02,\n",
              "         4.16495055e-02, 9.65728704e-03, 2.23268569e-02, 8.48854259e-02,\n",
              "         9.68754664e-03, 1.34612266e-02, 0.00000000e+00, 0.00000000e+00,\n",
              "         0.00000000e+00, 3.24847497e-04, 1.40739903e-02, 0.00000000e+00,\n",
              "         0.00000000e+00, 4.85662790e-03, 0.00000000e+00, 0.00000000e+00],\n",
              "        [0.00000000e+00, 0.00000000e+00, 1.44562190e-02, 3.67169268e-02,\n",
              "         0.00000000e+00, 0.00000000e+00, 0.00000000e+00, 0.00000000e+00,\n",
              "         0.00000000e+00, 7.00255856e-03, 5.97146107e-03, 3.27318795e-02,\n",
              "         0.00000000e+00, 2.35069003e-02, 0.00000000e+00, 0.00000000e+00,\n",
              "         1.29074166e-02, 0.00000000e+00, 2.33583152e-03, 2.20597181e-02,\n",
              "         1.58118177e-02, 0.00000000e+00, 1.15182931e-02, 5.12927072e-03,\n",
              "         0.00000000e+00, 3.81623171e-02, 0.00000000e+00, 6.08523972e-02,\n",
              "         1.07997479e-02, 5.07265665e-02, 0.00000000e+00, 2.07318552e-02,\n",
              "         0.00000000e+00, 0.00000000e+00, 0.00000000e+00, 0.00000000e+00,\n",
              "         0.00000000e+00, 3.09411101e-02, 2.99752504e-02, 6.96788961e-03,\n",
              "         0.00000000e+00, 3.59054320e-02, 1.72053333e-02, 0.00000000e+00,\n",
              "         1.28141521e-02, 0.00000000e+00, 1.14842523e-02, 2.47723088e-02,\n",
              "         4.16495055e-02, 9.65728704e-03, 2.23268569e-02, 8.48854259e-02,\n",
              "         9.68754664e-03, 1.34612266e-02, 0.00000000e+00, 0.00000000e+00,\n",
              "         0.00000000e+00, 3.24847497e-04, 1.40739903e-02, 0.00000000e+00,\n",
              "         0.00000000e+00, 4.85662790e-03, 0.00000000e+00, 0.00000000e+00],\n",
              "        [0.00000000e+00, 0.00000000e+00, 1.44562190e-02, 3.67169268e-02,\n",
              "         0.00000000e+00, 0.00000000e+00, 0.00000000e+00, 0.00000000e+00,\n",
              "         0.00000000e+00, 7.00255856e-03, 5.97146107e-03, 3.27318795e-02,\n",
              "         0.00000000e+00, 2.35069003e-02, 0.00000000e+00, 0.00000000e+00,\n",
              "         1.29074166e-02, 0.00000000e+00, 2.33583152e-03, 2.20597181e-02,\n",
              "         1.58118177e-02, 0.00000000e+00, 1.15182931e-02, 5.12927072e-03,\n",
              "         0.00000000e+00, 3.81623171e-02, 0.00000000e+00, 6.08523972e-02,\n",
              "         1.07997479e-02, 5.07265665e-02, 0.00000000e+00, 2.07318552e-02,\n",
              "         0.00000000e+00, 0.00000000e+00, 0.00000000e+00, 0.00000000e+00,\n",
              "         0.00000000e+00, 3.09411101e-02, 2.99752504e-02, 6.96788961e-03,\n",
              "         0.00000000e+00, 3.59054320e-02, 1.72053333e-02, 0.00000000e+00,\n",
              "         1.28141521e-02, 0.00000000e+00, 1.14842523e-02, 2.47723088e-02,\n",
              "         4.16495055e-02, 9.65728704e-03, 2.23268569e-02, 8.48854259e-02,\n",
              "         9.68754664e-03, 1.34612266e-02, 0.00000000e+00, 0.00000000e+00,\n",
              "         0.00000000e+00, 3.24847497e-04, 1.40739903e-02, 0.00000000e+00,\n",
              "         0.00000000e+00, 4.85662790e-03, 0.00000000e+00, 0.00000000e+00],\n",
              "        [0.00000000e+00, 0.00000000e+00, 1.47518013e-02, 1.80472024e-02,\n",
              "         0.00000000e+00, 0.00000000e+00, 3.98970908e-03, 0.00000000e+00,\n",
              "         1.16381906e-02, 3.05324933e-03, 3.22472188e-03, 1.87809784e-02,\n",
              "         0.00000000e+00, 3.12303230e-02, 0.00000000e+00, 0.00000000e+00,\n",
              "         4.42006672e-03, 0.00000000e+00, 2.44450253e-02, 0.00000000e+00,\n",
              "         1.20517854e-02, 0.00000000e+00, 2.65329052e-02, 0.00000000e+00,\n",
              "         0.00000000e+00, 1.19038792e-02, 1.30203590e-02, 4.07991968e-02,\n",
              "         4.22057416e-03, 3.96033600e-02, 0.00000000e+00, 2.14070678e-02,\n",
              "         0.00000000e+00, 0.00000000e+00, 0.00000000e+00, 0.00000000e+00,\n",
              "         9.60013736e-03, 2.61235461e-02, 1.92874819e-02, 2.06562188e-02,\n",
              "         1.68043412e-02, 3.61587182e-02, 1.66393649e-02, 8.66463501e-03,\n",
              "         0.00000000e+00, 1.13641592e-02, 1.94777418e-02, 2.86576003e-02,\n",
              "         1.52321700e-02, 2.18913257e-02, 1.68230198e-02, 6.67186528e-02,\n",
              "         3.10031995e-02, 1.05903279e-02, 0.00000000e+00, 0.00000000e+00,\n",
              "         9.36320797e-03, 0.00000000e+00, 3.12574059e-02, 0.00000000e+00,\n",
              "         0.00000000e+00, 1.62518770e-02, 0.00000000e+00, 0.00000000e+00],\n",
              "        [0.00000000e+00, 0.00000000e+00, 2.91207776e-04, 1.35506159e-02,\n",
              "         0.00000000e+00, 0.00000000e+00, 1.00168353e-02, 0.00000000e+00,\n",
              "         0.00000000e+00, 0.00000000e+00, 0.00000000e+00, 1.44635905e-02,\n",
              "         0.00000000e+00, 3.45182903e-02, 0.00000000e+00, 0.00000000e+00,\n",
              "         1.10698976e-02, 0.00000000e+00, 3.83884273e-02, 0.00000000e+00,\n",
              "         2.81107835e-02, 0.00000000e+00, 1.03947772e-02, 0.00000000e+00,\n",
              "         0.00000000e+00, 4.87704156e-03, 0.00000000e+00, 3.21365930e-02,\n",
              "         0.00000000e+00, 2.19083298e-02, 0.00000000e+00, 0.00000000e+00,\n",
              "         0.00000000e+00, 0.00000000e+00, 0.00000000e+00, 0.00000000e+00,\n",
              "         1.03858178e-02, 3.70484702e-02, 3.10483500e-02, 1.77286360e-02,\n",
              "         2.63827369e-02, 2.18130983e-02, 3.27911265e-02, 3.16213481e-02,\n",
              "         0.00000000e+00, 5.08749206e-03, 0.00000000e+00, 1.06063988e-02,\n",
              "         1.03502702e-02, 2.26843730e-02, 1.49774468e-02, 4.13932428e-02,\n",
              "         3.59896310e-02, 0.00000000e+00, 0.00000000e+00, 0.00000000e+00,\n",
              "         2.20045634e-02, 1.55327907e-02, 1.47493351e-02, 0.00000000e+00,\n",
              "         0.00000000e+00, 1.55916251e-02, 0.00000000e+00, 0.00000000e+00]]],\n",
              "      dtype=float32)>"
            ]
          },
          "metadata": {},
          "execution_count": 44
        }
      ]
    },
    {
      "cell_type": "code",
      "source": [
        "max_pool_output"
      ],
      "metadata": {
        "colab": {
          "base_uri": "https://localhost:8080/"
        },
        "id": "gf0g-hQ_EeQL",
        "outputId": "e8f73a48-7254-47f6-8b6e-d41521396c25"
      },
      "execution_count": null,
      "outputs": [
        {
          "output_type": "execute_result",
          "data": {
            "text/plain": [
              "<tf.Tensor: shape=(1, 64), dtype=float32, numpy=\n",
              "array([[0.03420688, 0.04593503, 0.03875961, 0.04701634, 0.02758761,\n",
              "        0.06899696, 0.04990816, 0.03333473, 0.01163819, 0.04929606,\n",
              "        0.03591813, 0.04184256, 0.00795801, 0.03795933, 0.04618482,\n",
              "        0.03571614, 0.06564758, 0.05623969, 0.03838843, 0.05502545,\n",
              "        0.05887093, 0.03337291, 0.02653291, 0.02812728, 0.04975544,\n",
              "        0.03816232, 0.01302036, 0.06826787, 0.04864368, 0.0530409 ,\n",
              "        0.0570797 , 0.05217439, 0.0685861 , 0.08427295, 0.01628065,\n",
              "        0.07728556, 0.02458656, 0.04729555, 0.05602574, 0.0364832 ,\n",
              "        0.02638274, 0.03615872, 0.04419994, 0.03162135, 0.04457485,\n",
              "        0.04606874, 0.04084856, 0.05901059, 0.07522458, 0.04264278,\n",
              "        0.02437258, 0.09289413, 0.03598963, 0.03983035, 0.01437721,\n",
              "        0.02675603, 0.02200456, 0.03825188, 0.03125741, 0.06432468,\n",
              "        0.00509746, 0.06481817, 0.02662401, 0.05063385]], dtype=float32)>"
            ]
          },
          "metadata": {},
          "execution_count": 45
        }
      ]
    },
    {
      "cell_type": "code",
      "source": [
        "# building a conv1d model\n",
        "\n",
        "from tensorflow.keras import layers\n",
        "\n",
        "inputs = layers.Input(shape=(1,) , dtype=\"string\")\n",
        "x = text_vectorizer(inputs)\n",
        "x = embedding(x)\n",
        "\n",
        "x = layers.Conv1D(filters=64,\n",
        "                  kernel_size=5,\n",
        "                  activation=\"relu\",\n",
        "                  strides=1,\n",
        "                  padding=\"valid\")(x)\n",
        "x = layers.GlobalMaxPool1D()(x)\n",
        "outputs = layers.Dense(1 , activation=\"sigmoid\")(x)\n",
        "\n",
        "model_5 = tf.keras.Model(inputs,outputs, name=\"model_5_conv1d\")"
      ],
      "metadata": {
        "id": "DJGR820IEno3"
      },
      "execution_count": null,
      "outputs": []
    },
    {
      "cell_type": "code",
      "source": [
        "model_5.summary()"
      ],
      "metadata": {
        "colab": {
          "base_uri": "https://localhost:8080/"
        },
        "id": "4a9YurHRG0Ym",
        "outputId": "8953be48-4f31-4638-90d9-6fe7f54af692"
      },
      "execution_count": null,
      "outputs": [
        {
          "output_type": "stream",
          "name": "stdout",
          "text": [
            "Model: \"model_5_conv1d\"\n",
            "_________________________________________________________________\n",
            " Layer (type)                Output Shape              Param #   \n",
            "=================================================================\n",
            " input_6 (InputLayer)        [(None, 1)]               0         \n",
            "                                                                 \n",
            " text_vectorization_1 (TextV  (None, 15)               0         \n",
            " ectorization)                                                   \n",
            "                                                                 \n",
            " embedding (Embedding)       (None, 15, 128)           1280000   \n",
            "                                                                 \n",
            " conv1d_5 (Conv1D)           (None, 11, 64)            41024     \n",
            "                                                                 \n",
            " global_max_pooling1d_5 (Glo  (None, 64)               0         \n",
            " balMaxPooling1D)                                                \n",
            "                                                                 \n",
            " dense_2 (Dense)             (None, 1)                 65        \n",
            "                                                                 \n",
            "=================================================================\n",
            "Total params: 1,321,089\n",
            "Trainable params: 1,321,089\n",
            "Non-trainable params: 0\n",
            "_________________________________________________________________\n"
          ]
        }
      ]
    },
    {
      "cell_type": "code",
      "source": [
        "model_5.compile(loss=\"binary_crossentropy\",\n",
        "                optimizer = tf.keras.optimizers.Adam(),\n",
        "                metrics=[\"accuracy\"])"
      ],
      "metadata": {
        "id": "YQ4P0-_YGP-L"
      },
      "execution_count": null,
      "outputs": []
    },
    {
      "cell_type": "code",
      "source": [
        "model5_hist =  model_5.fit(train_sentences,\n",
        "                          train_labels,\n",
        "                          epochs=5,\n",
        "                          validation_data = (val_sentences , val_labels),\n",
        "                          callbacks=[create_tensorboard_callback(SAVE_DIR,\n",
        "                                                                 \"model_5_conv1d\")])"
      ],
      "metadata": {
        "colab": {
          "base_uri": "https://localhost:8080/"
        },
        "id": "ruWIF8x7G5ok",
        "outputId": "a0d2375d-7f76-44b7-9245-3f3b18a0c2fa"
      },
      "execution_count": null,
      "outputs": [
        {
          "output_type": "stream",
          "name": "stdout",
          "text": [
            "Saving TensorBoard log files to: model_logs/model_5_conv1d/20230602-075707\n",
            "Epoch 1/5\n",
            "215/215 [==============================] - 14s 50ms/step - loss: 0.2452 - accuracy: 0.9240 - val_loss: 0.6144 - val_accuracy: 0.7769\n",
            "Epoch 2/5\n",
            "215/215 [==============================] - 3s 16ms/step - loss: 0.1288 - accuracy: 0.9543 - val_loss: 0.7339 - val_accuracy: 0.7717\n",
            "Epoch 3/5\n",
            "215/215 [==============================] - 3s 15ms/step - loss: 0.0868 - accuracy: 0.9723 - val_loss: 0.8171 - val_accuracy: 0.7598\n",
            "Epoch 4/5\n",
            "215/215 [==============================] - 2s 10ms/step - loss: 0.0718 - accuracy: 0.9749 - val_loss: 0.8775 - val_accuracy: 0.7664\n",
            "Epoch 5/5\n",
            "215/215 [==============================] - 2s 8ms/step - loss: 0.0642 - accuracy: 0.9781 - val_loss: 0.8883 - val_accuracy: 0.7651\n"
          ]
        }
      ]
    },
    {
      "cell_type": "code",
      "source": [
        "model_5_pred_probs = model_5.predict(val_sentences)"
      ],
      "metadata": {
        "colab": {
          "base_uri": "https://localhost:8080/"
        },
        "id": "66Z9CLqpHDPu",
        "outputId": "86ee43e7-10e4-4ee7-b82b-6fe7e7286aff"
      },
      "execution_count": null,
      "outputs": [
        {
          "output_type": "stream",
          "name": "stdout",
          "text": [
            "24/24 [==============================] - 0s 2ms/step\n"
          ]
        }
      ]
    },
    {
      "cell_type": "code",
      "source": [
        "model_5_preds = tf.squeeze(tf.round(model_5_pred_probs))\n"
      ],
      "metadata": {
        "id": "zlNH5EteHQsj"
      },
      "execution_count": null,
      "outputs": []
    },
    {
      "cell_type": "code",
      "source": [
        "model_5_res = calculate_results(val_labels,\n",
        "                                model_5_preds)\n",
        "model_5_res"
      ],
      "metadata": {
        "colab": {
          "base_uri": "https://localhost:8080/"
        },
        "id": "71fDz_gqHXbB",
        "outputId": "9adb7ec5-a741-45be-9c4a-fe5cb4b0ce02"
      },
      "execution_count": null,
      "outputs": [
        {
          "output_type": "execute_result",
          "data": {
            "text/plain": [
              "{'accuracy': 76.50918635170603,\n",
              " 'precison': 0.765325307490926,\n",
              " 'recall': 0.7650918635170604,\n",
              " 'F1 score': 0.7637474572934756}"
            ]
          },
          "metadata": {},
          "execution_count": 55
        }
      ]
    },
    {
      "cell_type": "markdown",
      "source": [
        "# Transfer Learning\n",
        "We'll select an embedding (encoder) from tensorflow hub"
      ],
      "metadata": {
        "id": "JvPIo1pdHufA"
      }
    },
    {
      "cell_type": "code",
      "source": [
        "import tensorflow_hub as hub\n",
        "sample_sentence = \"There's a flood in my street!\"\n",
        "embed = hub.load(\"https://tfhub.dev/google/universal-sentence-encoder/4\")\n",
        "\n",
        "embed_samples = embed([sample_sentence,\n",
        "                       \"well this is a sample sentence for the universal encoder\"])\n",
        "\n",
        "print(embed_samples[0][:50])"
      ],
      "metadata": {
        "colab": {
          "base_uri": "https://localhost:8080/"
        },
        "id": "3cb_p9MUHnf3",
        "outputId": "43446efb-b369-40dd-bd77-8f94e1fcb2e5"
      },
      "execution_count": null,
      "outputs": [
        {
          "output_type": "stream",
          "name": "stdout",
          "text": [
            "tf.Tensor(\n",
            "[-0.01157028  0.0248591   0.02878048 -0.012715    0.03971538  0.0882776\n",
            "  0.02680984  0.05589836 -0.0106873  -0.00597291  0.00639323 -0.01819518\n",
            "  0.00030813  0.09105888  0.05874644 -0.03180628  0.01512474 -0.05162929\n",
            "  0.00991367 -0.06865347 -0.04209306  0.02678981  0.03011006  0.00321069\n",
            " -0.00337973 -0.04787357  0.0226672  -0.00985925 -0.04063613 -0.01292092\n",
            " -0.04666384  0.05630299 -0.03949255  0.00517686  0.02495829 -0.0701444\n",
            "  0.02871508  0.04947684 -0.00633979 -0.08960192  0.02807118 -0.00808364\n",
            " -0.01360602  0.0599865  -0.10361787 -0.05195374  0.00232954 -0.02332531\n",
            " -0.03758105  0.03327728], shape=(50,), dtype=float32)\n"
          ]
        }
      ]
    },
    {
      "cell_type": "code",
      "source": [
        "embed_samples[0].shape"
      ],
      "metadata": {
        "colab": {
          "base_uri": "https://localhost:8080/"
        },
        "id": "KdjPUexDKgtj",
        "outputId": "478576fc-7a64-4015-9bdd-419a4c52588d"
      },
      "execution_count": null,
      "outputs": [
        {
          "output_type": "execute_result",
          "data": {
            "text/plain": [
              "TensorShape([512])"
            ]
          },
          "metadata": {},
          "execution_count": 58
        }
      ]
    },
    {
      "cell_type": "code",
      "source": [
        "#Create a keras layer using the USE pretrained layer from tensorflowhub\n",
        "\n",
        "sentence_encoder_layer = hub.KerasLayer(\"https://tfhub.dev/google/universal-sentence-encoder/4\",\n",
        "                                        input_shape=[],   # as it could be a variable length;read doc of this\n",
        "                                        dtype=tf.string,\n",
        "                                        trainable=False,\n",
        "                                        name = \"USE\")"
      ],
      "metadata": {
        "id": "gmHA8-hZLJRX"
      },
      "execution_count": null,
      "outputs": []
    },
    {
      "cell_type": "code",
      "source": [
        "# create the model using sequential API\n",
        "\n",
        "model_6 = tf.keras.Sequential([\n",
        "    sentence_encoder_layer,\n",
        "    layers.Dense(64 , activation=\"relu\"),\n",
        "    layers.Dense(1 , activation=\"sigmoid\")\n",
        "] , name=\"model_6_USE\")\n",
        "\n",
        "model_6.compile(loss=\"binary_crossentropy\",\n",
        "                optimizer=tf.keras.optimizers.Adam(),\n",
        "                metrics=[\"accuracy\"])\n",
        "model_6.summary()"
      ],
      "metadata": {
        "colab": {
          "base_uri": "https://localhost:8080/"
        },
        "id": "KETpyRMlL6Qx",
        "outputId": "c3d93650-7012-4d06-84f3-5dd91913795f"
      },
      "execution_count": null,
      "outputs": [
        {
          "output_type": "stream",
          "name": "stdout",
          "text": [
            "Model: \"model_6_USE\"\n",
            "_________________________________________________________________\n",
            " Layer (type)                Output Shape              Param #   \n",
            "=================================================================\n",
            " USE (KerasLayer)            (None, 512)               256797824 \n",
            "                                                                 \n",
            " dense_3 (Dense)             (None, 64)                32832     \n",
            "                                                                 \n",
            " dense_4 (Dense)             (None, 1)                 65        \n",
            "                                                                 \n",
            "=================================================================\n",
            "Total params: 256,830,721\n",
            "Trainable params: 32,897\n",
            "Non-trainable params: 256,797,824\n",
            "_________________________________________________________________\n"
          ]
        }
      ]
    },
    {
      "cell_type": "code",
      "source": [
        "# train a classifier on top of USE\n",
        "model6_hist = model_6.fit(train_sentences,\n",
        "                          train_labels,\n",
        "                          epochs=5,\n",
        "                          validation_data = (val_sentences , val_labels),\n",
        "                          callbacks=[create_tensorboard_callback(SAVE_DIR,\n",
        "                                                                 \"model_6_USE\")])"
      ],
      "metadata": {
        "colab": {
          "base_uri": "https://localhost:8080/"
        },
        "id": "1XN1qxvCMgHc",
        "outputId": "b277359d-8169-4d55-d745-873ee770e504"
      },
      "execution_count": null,
      "outputs": [
        {
          "output_type": "stream",
          "name": "stdout",
          "text": [
            "Saving TensorBoard log files to: model_logs/model_6_USE/20230602-082453\n",
            "Epoch 1/5\n",
            "215/215 [==============================] - 6s 14ms/step - loss: 0.5053 - accuracy: 0.7811 - val_loss: 0.4505 - val_accuracy: 0.7992\n",
            "Epoch 2/5\n",
            "215/215 [==============================] - 4s 17ms/step - loss: 0.4149 - accuracy: 0.8154 - val_loss: 0.4357 - val_accuracy: 0.8084\n",
            "Epoch 3/5\n",
            "215/215 [==============================] - 3s 12ms/step - loss: 0.4004 - accuracy: 0.8213 - val_loss: 0.4292 - val_accuracy: 0.8136\n",
            "Epoch 4/5\n",
            "215/215 [==============================] - 3s 13ms/step - loss: 0.3927 - accuracy: 0.8301 - val_loss: 0.4288 - val_accuracy: 0.8097\n",
            "Epoch 5/5\n",
            "215/215 [==============================] - 3s 13ms/step - loss: 0.3861 - accuracy: 0.8308 - val_loss: 0.4308 - val_accuracy: 0.8097\n"
          ]
        }
      ]
    },
    {
      "cell_type": "code",
      "source": [
        "model_6_pred_probs = model_6.predict(val_sentences)\n",
        "model_6_preds = tf.squeeze(tf.round(model_6_pred_probs))\n",
        "model_6_res = calculate_results(val_labels , model_6_preds)\n",
        "model_6_res"
      ],
      "metadata": {
        "colab": {
          "base_uri": "https://localhost:8080/"
        },
        "id": "T6XdpAG2NZv2",
        "outputId": "d1b11efd-44e0-48f1-862a-38a96a30758f"
      },
      "execution_count": null,
      "outputs": [
        {
          "output_type": "stream",
          "name": "stdout",
          "text": [
            "24/24 [==============================] - 1s 14ms/step\n"
          ]
        },
        {
          "output_type": "execute_result",
          "data": {
            "text/plain": [
              "{'accuracy': 80.97112860892388,\n",
              " 'precison': 0.8132253018714792,\n",
              " 'recall': 0.8097112860892388,\n",
              " 'F1 score': 0.8077085649633902}"
            ]
          },
          "metadata": {},
          "execution_count": 62
        }
      ]
    },
    {
      "cell_type": "code",
      "source": [
        "baseline_res"
      ],
      "metadata": {
        "colab": {
          "base_uri": "https://localhost:8080/"
        },
        "id": "mpgV6F0kNwgV",
        "outputId": "f1e6aefc-7760-475c-b92a-49bd47eee97d"
      },
      "execution_count": null,
      "outputs": [
        {
          "output_type": "execute_result",
          "data": {
            "text/plain": [
              "{'accuracy': 79.26509186351706,\n",
              " 'precison': 0.8111390004213173,\n",
              " 'recall': 0.7926509186351706,\n",
              " 'F1 score': 0.7862189758049549}"
            ]
          },
          "metadata": {},
          "execution_count": 63
        }
      ]
    },
    {
      "cell_type": "markdown",
      "source": [
        "# With only 10% of data"
      ],
      "metadata": {
        "id": "jVBsGVKxO5eB"
      }
    },
    {
      "cell_type": "code",
      "source": [
        "# train_10_percent = train_df_shuffled[[\"text\" , \"target\"]].sample(frac=0.1,random_state=42)"
      ],
      "metadata": {
        "id": "3hsmLxRxNzoZ"
      },
      "execution_count": null,
      "outputs": []
    },
    {
      "cell_type": "code",
      "source": [
        "# train_sentences_10_percent = train_10_percent[\"text\"].to_list()\n",
        "# train_labels_10_percent = train_10_percent[\"target\"].to_list()\n"
      ],
      "metadata": {
        "id": "_k8bsS-mRP-7"
      },
      "execution_count": null,
      "outputs": []
    },
    {
      "cell_type": "code",
      "source": [
        "# train_10_percent[\"target\"].value_counts()"
      ],
      "metadata": {
        "colab": {
          "base_uri": "https://localhost:8080/"
        },
        "id": "vlKYpWPERkEF",
        "outputId": "9a5ee698-5499-4a2d-e9ea-ede481cf8a7b"
      },
      "execution_count": null,
      "outputs": [
        {
          "output_type": "execute_result",
          "data": {
            "text/plain": [
              "0    413\n",
              "1    348\n",
              "Name: target, dtype: int64"
            ]
          },
          "metadata": {},
          "execution_count": 66
        }
      ]
    },
    {
      "cell_type": "markdown",
      "source": [
        "To avoid data leakage we split from train_sentences as repeted sentences will give higher accuracy"
      ],
      "metadata": {
        "id": "ZSfymsQQVoq3"
      }
    },
    {
      "cell_type": "code",
      "source": [
        "train_10_percent_split = int(0.1 * len(train_sentences))\n",
        "train_sentences_10_percent = train_sentences[:train_10_percent_split]\n",
        "train_labels_10_percent = train_labels[:train_10_percent_split]\n"
      ],
      "metadata": {
        "id": "dlYOgqa5VI9f"
      },
      "execution_count": null,
      "outputs": []
    },
    {
      "cell_type": "code",
      "source": [
        "# TO recreate a model same as a model previously created we use;\n",
        "\n",
        "model_7 = tf.keras.models.clone_model(model_6)\n",
        "\n",
        "model_7.compile(loss=\"binary_crossentropy\",\n",
        "                optimizer=tf.keras.optimizers.Adam(),\n",
        "                metrics=[\"accuracy\"])"
      ],
      "metadata": {
        "id": "CQEZALapRtK8"
      },
      "execution_count": null,
      "outputs": []
    },
    {
      "cell_type": "code",
      "source": [
        "# train a classifier on top of USE\n",
        "model7_hist = model_7.fit(train_sentences_10_percent,\n",
        "                          train_labels_10_percent,\n",
        "                          epochs=5,\n",
        "                          validation_data = (val_sentences , val_labels),\n",
        "                          callbacks=[create_tensorboard_callback(SAVE_DIR,\n",
        "                                                                 \"model_7_USE_10_percent\")])\n"
      ],
      "metadata": {
        "colab": {
          "base_uri": "https://localhost:8080/"
        },
        "id": "eFGd5euJSXL9",
        "outputId": "a569ba28-568d-4b02-eacf-776f184bd9da"
      },
      "execution_count": null,
      "outputs": [
        {
          "output_type": "stream",
          "name": "stdout",
          "text": [
            "Saving TensorBoard log files to: model_logs/model_7_USE_10_percent/20230602-090246\n",
            "Epoch 1/5\n",
            "22/22 [==============================] - 4s 46ms/step - loss: 0.6749 - accuracy: 0.6920 - val_loss: 0.6524 - val_accuracy: 0.7362\n",
            "Epoch 2/5\n",
            "22/22 [==============================] - 1s 27ms/step - loss: 0.6078 - accuracy: 0.8058 - val_loss: 0.5923 - val_accuracy: 0.7664\n",
            "Epoch 3/5\n",
            "22/22 [==============================] - 1s 24ms/step - loss: 0.5306 - accuracy: 0.8073 - val_loss: 0.5359 - val_accuracy: 0.7677\n",
            "Epoch 4/5\n",
            "22/22 [==============================] - 1s 28ms/step - loss: 0.4668 - accuracy: 0.8204 - val_loss: 0.5046 - val_accuracy: 0.7638\n",
            "Epoch 5/5\n",
            "22/22 [==============================] - 0s 23ms/step - loss: 0.4238 - accuracy: 0.8263 - val_loss: 0.4880 - val_accuracy: 0.7690\n"
          ]
        }
      ]
    },
    {
      "cell_type": "code",
      "source": [
        "model_7_pred_probs = model_7.predict(val_sentences)\n",
        "model_7_preds = tf.squeeze(tf.round(model_7_pred_probs))\n",
        "model_7_res = calculate_results(val_labels , model_7_preds)\n",
        "model_7_res"
      ],
      "metadata": {
        "colab": {
          "base_uri": "https://localhost:8080/"
        },
        "id": "m4l8xhz_Sq7r",
        "outputId": "edefbcf2-2540-4324-85cb-131110b407dc"
      },
      "execution_count": null,
      "outputs": [
        {
          "output_type": "stream",
          "name": "stdout",
          "text": [
            "24/24 [==============================] - 1s 10ms/step\n"
          ]
        },
        {
          "output_type": "execute_result",
          "data": {
            "text/plain": [
              "{'accuracy': 76.9028871391076,\n",
              " 'precison': 0.7693974434525301,\n",
              " 'recall': 0.7690288713910761,\n",
              " 'F1 score': 0.7676527036976099}"
            ]
          },
          "metadata": {},
          "execution_count": 73
        }
      ]
    },
    {
      "cell_type": "markdown",
      "source": [
        "# Results comparing in github of tutorial"
      ],
      "metadata": {
        "id": "KRKehZ4IX-BV"
      }
    },
    {
      "cell_type": "code",
      "source": [
        "# upload to tensorboard.dev\n",
        "\n",
        "!tensorboard dev upload --logdir ./model_logs/ \\\n",
        "  --name \"NLP modelling experiments Course\" \\\n",
        "  --description \"Comparing different types of models\" \\\n",
        "  --one_shot # exit the uploader once done"
      ],
      "metadata": {
        "colab": {
          "base_uri": "https://localhost:8080/"
        },
        "id": "ypMFcg3CS5Xr",
        "outputId": "de80d289-3b5d-4283-9ff0-f7846e9f2114"
      },
      "execution_count": null,
      "outputs": [
        {
          "output_type": "stream",
          "name": "stdout",
          "text": [
            "2023-06-02 09:14:17.290219: W tensorflow/compiler/tf2tensorrt/utils/py_utils.cc:38] TF-TRT Warning: Could not find TensorRT\n",
            "\n",
            "***** TensorBoard Uploader *****\n",
            "\n",
            "This will upload your TensorBoard logs to https://tensorboard.dev/ from\n",
            "the following directory:\n",
            "\n",
            "./model_logs/\n",
            "\n",
            "This TensorBoard will be visible to everyone. Do not upload sensitive\n",
            "data.\n",
            "\n",
            "Your use of this service is subject to Google's Terms of Service\n",
            "<https://policies.google.com/terms> and Privacy Policy\n",
            "<https://policies.google.com/privacy>, and TensorBoard.dev's Terms of Service\n",
            "<https://tensorboard.dev/policy/terms/>.\n",
            "\n",
            "This notice will not be shown again while you are logged into the uploader.\n",
            "To log out, run `tensorboard dev auth revoke`.\n",
            "\n",
            "Continue? (yes/NO) yes\n",
            "\n",
            "To sign in with the TensorBoard uploader:\n",
            "\n",
            "1. On your computer or phone, visit:\n",
            "\n",
            "   https://www.google.com/device\n",
            "\n",
            "2. Sign in with your Google account, then enter:\n",
            "\n",
            "   NYWL-XNPB\n",
            "\n",
            "\n",
            "\n",
            "New experiment created. View your TensorBoard at: https://tensorboard.dev/experiment/Z6imwDNLTBOKBSjOUrGrcw/\n",
            "\n",
            "\u001b[1m[2023-06-02T09:14:50]\u001b[0m Started scanning logdir.\n",
            "\u001b[1m[2023-06-02T09:14:57]\u001b[0m Total uploaded: 150 scalars, 0 tensors, 5 binary objects (3.2 MB)\n",
            "\u001b[1m[2023-06-02T09:14:57]\u001b[0m Done scanning logdir.\n",
            "\n",
            "\n",
            "Done. View your TensorBoard at https://tensorboard.dev/experiment/Z6imwDNLTBOKBSjOUrGrcw/\n"
          ]
        }
      ]
    },
    {
      "cell_type": "code",
      "source": [
        "# to view all experiments\n",
        "!tensorboard dev list"
      ],
      "metadata": {
        "colab": {
          "base_uri": "https://localhost:8080/"
        },
        "id": "cBBZvTNPYses",
        "outputId": "053a2a8d-af11-4ceb-fb60-dfd675a411da"
      },
      "execution_count": null,
      "outputs": [
        {
          "output_type": "stream",
          "name": "stdout",
          "text": [
            "2023-06-02 09:17:29.657505: W tensorflow/compiler/tf2tensorrt/utils/py_utils.cc:38] TF-TRT Warning: Could not find TensorRT\n",
            "https://tensorboard.dev/experiment/Z6imwDNLTBOKBSjOUrGrcw/\n",
            "\tName                 NLP modelling experiments Course\n",
            "\tDescription          Comparing different types of models\n",
            "\tId                   Z6imwDNLTBOKBSjOUrGrcw\n",
            "\tCreated              2023-06-02 09:14:50 (2 minutes ago)\n",
            "\tUpdated              2023-06-02 09:14:56 (2 minutes ago)\n",
            "\tRuns                 10\n",
            "\tTags                 5\n",
            "\tScalars              150\n",
            "\tTensor bytes         0\n",
            "\tBinary object bytes  3340749\n",
            "Total: 1 experiment(s)\n"
          ]
        }
      ]
    },
    {
      "cell_type": "code",
      "source": [
        "# to delete\n",
        "# !tensorboard dev delete --<experiment_id>"
      ],
      "metadata": {
        "id": "_5GxEZcJZbiT"
      },
      "execution_count": null,
      "outputs": []
    },
    {
      "cell_type": "markdown",
      "source": [
        "# saving and uploading model in github of course"
      ],
      "metadata": {
        "id": "z-js8_iDZ7AM"
      }
    },
    {
      "cell_type": "code",
      "source": [],
      "metadata": {
        "id": "rF_rLXvfZ_D1"
      },
      "execution_count": null,
      "outputs": []
    }
  ]
}